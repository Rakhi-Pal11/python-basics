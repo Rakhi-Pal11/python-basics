{
 "cells": [
  {
   "cell_type": "markdown",
   "id": "b515499c-442d-46d9-9c31-d9f8212e3ba8",
   "metadata": {
    "tags": []
   },
   "source": [
    "# Python basics practice test file"
   ]
  },
  {
   "cell_type": "markdown",
   "id": "bab330c7-9dcc-4140-8e4a-f81dd2cda83f",
   "metadata": {
    "tags": []
   },
   "source": [
    "## String Based Assignment Problem"
   ]
  },
  {
   "cell_type": "markdown",
   "id": "8689ecb6-6081-4aae-8dcc-3876f93d55de",
   "metadata": {},
   "source": [
    "### 1. Write a program to reverse a string."
   ]
  },
  {
   "cell_type": "code",
   "execution_count": 3,
   "id": "8e8d81a0-f0e2-47b5-9a7c-c132bd3b1b96",
   "metadata": {},
   "outputs": [
    {
     "name": "stdin",
     "output_type": "stream",
     "text": [
      "Enter your String: Aman Kumar\n"
     ]
    },
    {
     "name": "stdout",
     "output_type": "stream",
     "text": [
      "Your reversed string is: ramuK namA\n"
     ]
    }
   ],
   "source": [
    "s=input(\"Enter your String:\")\n",
    "print(\"Your reversed string is:\",s[::-1])"
   ]
  },
  {
   "cell_type": "markdown",
   "id": "7bb0dfe0-fbf9-4bdb-b106-a63b2d75ce39",
   "metadata": {
    "tags": []
   },
   "source": [
    "### 2. Check if a string is a palindrome."
   ]
  },
  {
   "cell_type": "code",
   "execution_count": 16,
   "id": "862544e7-acec-4e24-a5d3-b8ed474f8b31",
   "metadata": {},
   "outputs": [
    {
     "name": "stdin",
     "output_type": "stream",
     "text": [
      "Enter your String: AMANAMA\n"
     ]
    },
    {
     "name": "stdout",
     "output_type": "stream",
     "text": [
      "Palindrome\n"
     ]
    }
   ],
   "source": [
    "s=input(\"Enter your String:\")\n",
    "print(\"Palindrome\") if s==s[::-1] else print(\"Not a palindrome\")"
   ]
  },
  {
   "cell_type": "markdown",
   "id": "529a2d02-ad20-499e-baf7-be9f326d0953",
   "metadata": {
    "tags": []
   },
   "source": [
    "### 3. Convert a string to uppercase."
   ]
  },
  {
   "cell_type": "code",
   "execution_count": 17,
   "id": "986a7012-735d-41a7-aa33-493450b74835",
   "metadata": {},
   "outputs": [
    {
     "name": "stdin",
     "output_type": "stream",
     "text": [
      "Enter your String: ambavdhadf BGBSHsdggd\n"
     ]
    },
    {
     "name": "stdout",
     "output_type": "stream",
     "text": [
      "Your string converted to uppercase:  AMBAVDHADF BGBSHSDGGD\n"
     ]
    }
   ],
   "source": [
    "s=input(\"Enter your String:\")\n",
    "print(\"Your string converted to uppercase: \",s.upper())"
   ]
  },
  {
   "cell_type": "markdown",
   "id": "04ebd111-698d-41a5-a5e6-3b1abc656521",
   "metadata": {
    "tags": []
   },
   "source": [
    "### 4. Convert a string to lowercase."
   ]
  },
  {
   "cell_type": "code",
   "execution_count": 18,
   "id": "8d762dcc-c2f8-4b19-a7c4-645473739ede",
   "metadata": {},
   "outputs": [
    {
     "name": "stdin",
     "output_type": "stream",
     "text": [
      "Enter your String: AMnjdbzdbbAAAAAAAAAA\n"
     ]
    },
    {
     "name": "stdout",
     "output_type": "stream",
     "text": [
      "Your string converted to lowercase:  amnjdbzdbbaaaaaaaaaa\n"
     ]
    }
   ],
   "source": [
    "s=input(\"Enter your String:\")\n",
    "print(\"Your string converted to lowercase: \",s.lower())"
   ]
  },
  {
   "cell_type": "markdown",
   "id": "4a319734-1e02-4ba9-a527-69057d902165",
   "metadata": {
    "tags": []
   },
   "source": [
    "### 5. Count the number of vowels in a string."
   ]
  },
  {
   "cell_type": "code",
   "execution_count": 19,
   "id": "68dbf1ff-7ede-4ad5-8a37-185833826cae",
   "metadata": {},
   "outputs": [
    {
     "name": "stdin",
     "output_type": "stream",
     "text": [
      "Enter your String: Aman Kumar \n"
     ]
    },
    {
     "name": "stdout",
     "output_type": "stream",
     "text": [
      "Your string has 4 vowels\n"
     ]
    }
   ],
   "source": [
    "vowels=\"AEIOUaeiou\"\n",
    "s=input(\"Enter your String:\")\n",
    "vowel_count=0\n",
    "for char in s:\n",
    "    if char in vowels:\n",
    "        vowel_count+=1\n",
    "print(\"Your string has\",vowel_count, \"vowels\")"
   ]
  },
  {
   "cell_type": "markdown",
   "id": "386b4df0-681c-4cba-adb6-1e736b333203",
   "metadata": {
    "tags": []
   },
   "source": [
    "### 6. Count the number of consonants in a string."
   ]
  },
  {
   "cell_type": "code",
   "execution_count": 20,
   "id": "e9e82d8a-121f-48b9-aada-a539bb6105eb",
   "metadata": {},
   "outputs": [
    {
     "name": "stdin",
     "output_type": "stream",
     "text": [
      "Enter your String: Khushi Gupta Aman KUmar\n"
     ]
    },
    {
     "name": "stdout",
     "output_type": "stream",
     "text": [
      "Your string has 12 consonents\n"
     ]
    }
   ],
   "source": [
    "vowels=\"AEIOUaeiou\"\n",
    "s=input(\"Enter your String:\")\n",
    "consonent_count=0\n",
    "for char in s:\n",
    "    if char.isalpha() and char not in vowels:\n",
    "        consonent_count+=1\n",
    "print(\"Your string has\",consonent_count, \"consonents\")"
   ]
  },
  {
   "cell_type": "markdown",
   "id": "1c492de3-74d4-4a6a-b797-f50d8bb001ba",
   "metadata": {
    "tags": []
   },
   "source": [
    "### 7. Remove all whitespaces from a string."
   ]
  },
  {
   "cell_type": "code",
   "execution_count": 22,
   "id": "0a6ec197-1855-4953-97ec-1601f265b4bf",
   "metadata": {},
   "outputs": [
    {
     "name": "stdin",
     "output_type": "stream",
     "text": [
      "Enter your String:       Aman is a good                               boy\n"
     ]
    },
    {
     "name": "stdout",
     "output_type": "stream",
     "text": [
      "Your string after removig all whitespaces: Amanisagoodboy\n"
     ]
    }
   ],
   "source": [
    "s=input(\"Enter your String:\")\n",
    "print(\"Your string after removig all whitespaces:\",\"\".join(s.split()))"
   ]
  },
  {
   "cell_type": "markdown",
   "id": "67a99df7-ba53-429a-9f30-1e333d941df1",
   "metadata": {
    "tags": []
   },
   "source": [
    "### 8. Find the length of a string without using the `len()` function."
   ]
  },
  {
   "cell_type": "code",
   "execution_count": 23,
   "id": "40f99ba0-ffda-4fd7-a82c-13a7e6967105",
   "metadata": {},
   "outputs": [
    {
     "name": "stdin",
     "output_type": "stream",
     "text": [
      "Enter your String: Aman Kumar\n"
     ]
    },
    {
     "name": "stdout",
     "output_type": "stream",
     "text": [
      "The length of your string is:  10\n"
     ]
    }
   ],
   "source": [
    "s=input(\"Enter your String:\")\n",
    "length=0\n",
    "for i in s:\n",
    "    length+=1\n",
    "print(\"The length of your string is: \",length)"
   ]
  },
  {
   "cell_type": "markdown",
   "id": "aac0f663-a5b6-4170-8a29-d2131e075773",
   "metadata": {
    "tags": []
   },
   "source": [
    "### 9. Check if a string contains a specific word."
   ]
  },
  {
   "cell_type": "code",
   "execution_count": 24,
   "id": "22b5a601-391f-4d9e-afe3-eef70c5d619e",
   "metadata": {},
   "outputs": [
    {
     "name": "stdin",
     "output_type": "stream",
     "text": [
      "Enter your String: This sentence contains Aman\n",
      "Enter the specific word you want to check: Aman\n"
     ]
    },
    {
     "name": "stdout",
     "output_type": "stream",
     "text": [
      "True\n"
     ]
    }
   ],
   "source": [
    "s=input(\"Enter your String:\")\n",
    "specific_word=input(\"Enter the specific word you want to check:\")\n",
    "print(True) if specific_word in s else print(False)"
   ]
  },
  {
   "cell_type": "markdown",
   "id": "b37db4b2-d267-4054-983f-604da9334070",
   "metadata": {
    "tags": []
   },
   "source": [
    "### 10. Replace a word in a string with another word."
   ]
  },
  {
   "cell_type": "code",
   "execution_count": 27,
   "id": "220f24b4-6a2d-4601-baa8-51857edc6274",
   "metadata": {},
   "outputs": [
    {
     "name": "stdin",
     "output_type": "stream",
     "text": [
      "Enter your String: Aman and Khushi are good at chess\n",
      "Enter the specific word you want to change: Aman\n",
      "Enter the new word: Ankita\n"
     ]
    },
    {
     "name": "stdout",
     "output_type": "stream",
     "text": [
      "your new sentence: Ankita and Khushi are good at chess\n"
     ]
    }
   ],
   "source": [
    "s=input(\"Enter your String:\")\n",
    "old_word=input(\"Enter the specific word you want to change:\")\n",
    "new_word=input(\"Enter the new word:\")\n",
    "print(\"your new sentence:\",s.replace(old_word,new_word))"
   ]
  },
  {
   "cell_type": "markdown",
   "id": "a6290735-17ef-4890-97fc-624a39fce8c0",
   "metadata": {
    "tags": []
   },
   "source": [
    "### 11. Count the occurrences of a word in a string."
   ]
  },
  {
   "cell_type": "code",
   "execution_count": 29,
   "id": "ea4afd87-af24-4729-b943-5886f5a11c38",
   "metadata": {},
   "outputs": [
    {
     "name": "stdin",
     "output_type": "stream",
     "text": [
      "Enter your String: Aman and rahul are Aman and rahul\n",
      "Enter word to check no of occourance: Aman\n"
     ]
    },
    {
     "name": "stdout",
     "output_type": "stream",
     "text": [
      "Number of occourance of Aman : 2\n"
     ]
    }
   ],
   "source": [
    "s=input(\"Enter your String:\")\n",
    "word=input(\"Enter word to check no of occourance:\")\n",
    "occ=0\n",
    "for w in s.split():\n",
    "    if w==word:\n",
    "        occ+=1\n",
    "print(\"Number of occourance of\",word,\":\",occ)"
   ]
  },
  {
   "cell_type": "markdown",
   "id": "802211da-8371-4f3e-ba70-8c4197b8bf04",
   "metadata": {},
   "source": [
    "### 12. Find the first occurrence of a word in a string."
   ]
  },
  {
   "cell_type": "code",
   "execution_count": 31,
   "id": "6d0e7a8f-eef9-4c83-96ee-ec8b6dfed83b",
   "metadata": {},
   "outputs": [
    {
     "name": "stdin",
     "output_type": "stream",
     "text": [
      "Enter your string:  Aman and rahul are Aman and rahul\n",
      "Enter word to find:  rahul\n"
     ]
    },
    {
     "name": "stdout",
     "output_type": "stream",
     "text": [
      "First occurrence index: 9\n"
     ]
    }
   ],
   "source": [
    "s = input(\"Enter your string: \")\n",
    "word_to_find = input(\"Enter word to find: \")\n",
    "first_occurrence_index = s.find(word_to_find)\n",
    "print(\"First occurrence index:\", first_occurrence_index)"
   ]
  },
  {
   "cell_type": "markdown",
   "id": "d7d6687d-155c-465d-8241-cecae56185ad",
   "metadata": {},
   "source": [
    "### 13. Find the last occurrence of a word in a string."
   ]
  },
  {
   "cell_type": "code",
   "execution_count": 32,
   "id": "e74bb50f-3947-4ccd-8394-d00e9ff05aaf",
   "metadata": {},
   "outputs": [
    {
     "name": "stdin",
     "output_type": "stream",
     "text": [
      "Enter your string:  Aman and rahul are Aman and rahul\n",
      "Enter word to find:  Aman\n"
     ]
    },
    {
     "name": "stdout",
     "output_type": "stream",
     "text": [
      "Last occurrence index: 19\n"
     ]
    }
   ],
   "source": [
    "s = input(\"Enter your string: \")\n",
    "word_to_find = input(\"Enter word to find: \")\n",
    "last_occurrence_index = s.rfind(word_to_find)\n",
    "print(\"Last occurrence index:\", last_occurrence_index)"
   ]
  },
  {
   "cell_type": "markdown",
   "id": "1f31fab8-96b5-46dc-afa8-2845643d0415",
   "metadata": {},
   "source": [
    "### 14. Split a string into a list of words."
   ]
  },
  {
   "cell_type": "code",
   "execution_count": 33,
   "id": "87a227c9-42dd-4d5f-9a07-f0eb28afb4cd",
   "metadata": {},
   "outputs": [
    {
     "name": "stdin",
     "output_type": "stream",
     "text": [
      "Enter your string:  Aman and rahul are Aman and rahul\n"
     ]
    },
    {
     "name": "stdout",
     "output_type": "stream",
     "text": [
      "List of words: ['Aman', 'and', 'rahul', 'are', 'Aman', 'and', 'rahul']\n"
     ]
    }
   ],
   "source": [
    "s = input(\"Enter your string: \")\n",
    "words_list = s.split()\n",
    "print(\"List of words:\", words_list)"
   ]
  },
  {
   "cell_type": "markdown",
   "id": "3cfb619d-dee8-4de7-9ac4-14ccdef51499",
   "metadata": {},
   "source": [
    "### 15. Join a list of words into a string."
   ]
  },
  {
   "cell_type": "code",
   "execution_count": 35,
   "id": "880f3bb4-74e3-411f-a5d6-b2437a16d74f",
   "metadata": {},
   "outputs": [
    {
     "name": "stdin",
     "output_type": "stream",
     "text": [
      "Enter your list of words (separated by space):  I am here to learn Data Science\n"
     ]
    },
    {
     "name": "stdout",
     "output_type": "stream",
     "text": [
      "['I', 'am', 'here', 'to', 'learn', 'Data', 'Science']\n",
      "Joined string: I am here to learn Data Science\n"
     ]
    }
   ],
   "source": [
    "words_list = input(\"Enter your list of words (separated by space): \").split()\n",
    "print(words_list)\n",
    "joined_string = \" \".join(words_list)\n",
    "print(\"Joined string:\", joined_string)"
   ]
  },
  {
   "cell_type": "markdown",
   "id": "a3a3e874-c031-41e6-8432-5b99c3fde911",
   "metadata": {},
   "source": [
    "### 16. Convert a string where words are separated by spaces to one where words are separated by underscores."
   ]
  },
  {
   "cell_type": "code",
   "execution_count": 36,
   "id": "db37d33e-5c4b-452e-8917-f694968ba7ed",
   "metadata": {},
   "outputs": [
    {
     "name": "stdin",
     "output_type": "stream",
     "text": [
      "Enter your string:  The cat fell down but she landed on her feet.\n"
     ]
    },
    {
     "name": "stdout",
     "output_type": "stream",
     "text": [
      "String with underscores: The_cat_fell_down_but_she_landed_on_her_feet.\n"
     ]
    }
   ],
   "source": [
    "s = input(\"Enter your string: \")\n",
    "underscored_string = \"_\".join(s.split())\n",
    "print(\"String with underscores:\", underscored_string)"
   ]
  },
  {
   "cell_type": "markdown",
   "id": "74df3030-186d-4e74-867c-59cc62da196c",
   "metadata": {},
   "source": [
    "### 17. Check if a string starts with a specific word or phrase."
   ]
  },
  {
   "cell_type": "code",
   "execution_count": 37,
   "id": "ff7ec809-e8a9-4890-a2a5-499853a4dc8c",
   "metadata": {},
   "outputs": [
    {
     "name": "stdin",
     "output_type": "stream",
     "text": [
      "Enter your string:  Aman has a cat that sleeps on stairs\n",
      "Enter starting word or phrase:  Aman\n"
     ]
    },
    {
     "name": "stdout",
     "output_type": "stream",
     "text": [
      "String starts with the word/phrase: True\n"
     ]
    }
   ],
   "source": [
    "s = input(\"Enter your string: \")\n",
    "start_word = input(\"Enter starting word or phrase: \")\n",
    "starts_with_word = s.startswith(start_word)\n",
    "print(\"String starts with the word/phrase:\", starts_with_word)"
   ]
  },
  {
   "cell_type": "markdown",
   "id": "cfffcbe6-d612-4319-9b88-148cf83c800f",
   "metadata": {},
   "source": [
    "### 18. Check if a string ends with a specific word or phrase."
   ]
  },
  {
   "cell_type": "code",
   "execution_count": 38,
   "id": "bffd2ecb-1850-4a68-a0c8-54dc6c4b89db",
   "metadata": {},
   "outputs": [
    {
     "name": "stdin",
     "output_type": "stream",
     "text": [
      "Enter your string:  Here I am again\n",
      "Enter ending word or phrase:  again\n"
     ]
    },
    {
     "name": "stdout",
     "output_type": "stream",
     "text": [
      "String ends with the word/phrase: True\n"
     ]
    }
   ],
   "source": [
    "s = input(\"Enter your string: \")\n",
    "end_word = input(\"Enter ending word or phrase: \")\n",
    "ends_with_word = s.endswith(end_word)\n",
    "print(\"String ends with the word/phrase:\", ends_with_word)"
   ]
  },
  {
   "cell_type": "markdown",
   "id": "1496abc2-18bf-4f6d-a72b-3789c84581e4",
   "metadata": {},
   "source": [
    "### 19. Convert a string to title case (e.g., \"hello world\" to \"Hello World\")."
   ]
  },
  {
   "cell_type": "code",
   "execution_count": 39,
   "id": "002bac9e-c770-43c2-8fa8-16dee38c835b",
   "metadata": {},
   "outputs": [
    {
     "name": "stdin",
     "output_type": "stream",
     "text": [
      "Enter your string:  hello WORLD\n"
     ]
    },
    {
     "name": "stdout",
     "output_type": "stream",
     "text": [
      "Title case string: Hello World\n"
     ]
    }
   ],
   "source": [
    "s = input(\"Enter your string: \")\n",
    "title_case_string = s.title()\n",
    "print(\"Title case string:\", title_case_string)"
   ]
  },
  {
   "cell_type": "markdown",
   "id": "c51b96fd-9fe8-43c9-94d5-0e3473ab853a",
   "metadata": {},
   "source": [
    "### 20. Find the longest word in a string."
   ]
  },
  {
   "cell_type": "code",
   "execution_count": 40,
   "id": "f4e7c856-b4cd-4e61-b97f-231286e70727",
   "metadata": {},
   "outputs": [
    {
     "name": "stdin",
     "output_type": "stream",
     "text": [
      "Enter your string:  AManan hvf dgfg BVVVZhvavdudvu b                aka\n"
     ]
    },
    {
     "name": "stdout",
     "output_type": "stream",
     "text": [
      "Longest word: BVVVZhvavdudvu\n"
     ]
    }
   ],
   "source": [
    "s = input(\"Enter your string: \")\n",
    "longest_word = max(s.split(), key=len)\n",
    "print(\"Longest word:\", longest_word)"
   ]
  },
  {
   "cell_type": "markdown",
   "id": "99c07bf7-2761-421e-9f0f-2488441c5e51",
   "metadata": {},
   "source": [
    "### 21. Find the shortest word in a string."
   ]
  },
  {
   "cell_type": "code",
   "execution_count": 41,
   "id": "02da673f-6c85-4cc6-a911-3533ca88c6c0",
   "metadata": {},
   "outputs": [
    {
     "name": "stdin",
     "output_type": "stream",
     "text": [
      "Enter your string:  na idd jdwdd ff \n"
     ]
    },
    {
     "name": "stdout",
     "output_type": "stream",
     "text": [
      "Shortest word: na\n"
     ]
    }
   ],
   "source": [
    "s = input(\"Enter your string: \")\n",
    "shortest_word = min(s.split(), key=len)\n",
    "print(\"Shortest word:\", shortest_word)"
   ]
  },
  {
   "cell_type": "markdown",
   "id": "0760710a-aa0a-47d0-a11d-4adeb6dcb59d",
   "metadata": {},
   "source": [
    "### 22. Reverse the order of words in a string."
   ]
  },
  {
   "cell_type": "code",
   "execution_count": 42,
   "id": "e78cc05a-5800-4d96-a9cf-f79e0a789d6b",
   "metadata": {},
   "outputs": [
    {
     "name": "stdin",
     "output_type": "stream",
     "text": [
      "Enter your string:  get out of my house\n"
     ]
    },
    {
     "name": "stdout",
     "output_type": "stream",
     "text": [
      "String with reversed words: house my of out get\n"
     ]
    }
   ],
   "source": [
    "s = input(\"Enter your string: \")\n",
    "reversed_words_string = \" \".join(reversed(s.split()))\n",
    "print(\"String with reversed words:\", reversed_words_string)"
   ]
  },
  {
   "cell_type": "markdown",
   "id": "3bf9c516-9ac9-413b-8229-a87bfbe30d0e",
   "metadata": {},
   "source": [
    "### 23. Check if a string is alphanumeric."
   ]
  },
  {
   "cell_type": "code",
   "execution_count": 43,
   "id": "196abdfb-b474-4f51-b339-af00fe39b353",
   "metadata": {},
   "outputs": [
    {
     "name": "stdin",
     "output_type": "stream",
     "text": [
      "Enter your string:  nagudg 12xbjb Jahan waha kaha\n"
     ]
    },
    {
     "name": "stdout",
     "output_type": "stream",
     "text": [
      "Is alphanumeric: False\n"
     ]
    }
   ],
   "source": [
    "s = input(\"Enter your string: \")\n",
    "is_alphanumeric = s.isalnum()\n",
    "print(\"Is alphanumeric:\", is_alphanumeric)"
   ]
  },
  {
   "cell_type": "markdown",
   "id": "b090d8ba-3582-4956-bd83-a16aeb3be2ef",
   "metadata": {},
   "source": [
    "### 24. Extract all digits from a string."
   ]
  },
  {
   "cell_type": "code",
   "execution_count": 44,
   "id": "ad2f67bb-cf70-42d5-990f-057f406dcdf5",
   "metadata": {},
   "outputs": [
    {
     "name": "stdin",
     "output_type": "stream",
     "text": [
      "Enter your string:   1 aman 234 kumar is 890\n"
     ]
    },
    {
     "name": "stdout",
     "output_type": "stream",
     "text": [
      "Digits extracted: 1234890\n"
     ]
    }
   ],
   "source": [
    "s = input(\"Enter your string: \")\n",
    "digits = \"\".join(char for char in s if char.isdigit())\n",
    "print(\"Digits extracted:\", digits)"
   ]
  },
  {
   "cell_type": "markdown",
   "id": "c61f5bc1-bcb0-44a1-9be3-4c55f7155ef8",
   "metadata": {},
   "source": [
    "### 25. Extract all alphabets from a string."
   ]
  },
  {
   "cell_type": "code",
   "execution_count": 45,
   "id": "a90e2583-2652-4b0f-8d50-bbcb88e84203",
   "metadata": {},
   "outputs": [
    {
     "name": "stdin",
     "output_type": "stream",
     "text": [
      "Enter your string:  1 aman 234 kumar is         890\n"
     ]
    },
    {
     "name": "stdout",
     "output_type": "stream",
     "text": [
      "Alphabets extracted: amankumaris\n"
     ]
    }
   ],
   "source": [
    "s = input(\"Enter your string: \")\n",
    "alphabets = \"\".join(char for char in s if char.isalpha())\n",
    "print(\"Alphabets extracted:\", alphabets)"
   ]
  },
  {
   "cell_type": "markdown",
   "id": "28eef885-a67c-4627-bf26-cab1fe470d69",
   "metadata": {},
   "source": [
    "### 26. Count the number of uppercase letters in a string."
   ]
  },
  {
   "cell_type": "code",
   "execution_count": 46,
   "id": "12ebbf82-c049-4b95-9959-7387a003d60f",
   "metadata": {},
   "outputs": [
    {
     "name": "stdin",
     "output_type": "stream",
     "text": [
      "Enter your string:  Ansns kdbdb AAAAAAAA\n"
     ]
    },
    {
     "name": "stdout",
     "output_type": "stream",
     "text": [
      "Number of uppercase letters: 9\n"
     ]
    }
   ],
   "source": [
    "s = input(\"Enter your string: \")\n",
    "num_uppercase = sum(1 for char in s if char.isupper())\n",
    "print(\"Number of uppercase letters:\", num_uppercase)"
   ]
  },
  {
   "cell_type": "markdown",
   "id": "a52c088b-c87b-4d07-ad31-9a02fb040d5d",
   "metadata": {},
   "source": [
    "### 27. Count the number of lowercase letters in a string."
   ]
  },
  {
   "cell_type": "code",
   "execution_count": 47,
   "id": "066740fe-0423-48b0-a297-2bf8705bc262",
   "metadata": {},
   "outputs": [
    {
     "name": "stdin",
     "output_type": "stream",
     "text": [
      "Enter your string:  Aman is a good bu=oy BBBBBBBBB\n"
     ]
    },
    {
     "name": "stdout",
     "output_type": "stream",
     "text": [
      "Number of lowercase letters: 14\n"
     ]
    }
   ],
   "source": [
    "s = input(\"Enter your string: \")\n",
    "num_lowercase = sum(1 for char in s if char.islower())\n",
    "print(\"Number of lowercase letters:\", num_lowercase)"
   ]
  },
  {
   "cell_type": "markdown",
   "id": "fb971e13-c10a-429c-9dab-3fe0e35e99b9",
   "metadata": {},
   "source": [
    "### 28. Swap the case of each character in a string."
   ]
  },
  {
   "cell_type": "code",
   "execution_count": 48,
   "id": "03b42036-afa7-46d4-895c-5df624caaff9",
   "metadata": {},
   "outputs": [
    {
     "name": "stdin",
     "output_type": "stream",
     "text": [
      "Enter your string:  AMan KUMar\n"
     ]
    },
    {
     "name": "stdout",
     "output_type": "stream",
     "text": [
      "Swapped case string: amAN kumAR\n"
     ]
    }
   ],
   "source": [
    "s = input(\"Enter your string: \")\n",
    "swapped_case_string = s.swapcase()\n",
    "print(\"Swapped case string:\", swapped_case_string)"
   ]
  },
  {
   "cell_type": "markdown",
   "id": "4fb3ecca-0ce6-4411-9865-e87b278fdd34",
   "metadata": {},
   "source": [
    "### 29. Remove a specific word from a string."
   ]
  },
  {
   "cell_type": "code",
   "execution_count": 49,
   "id": "7670a8e4-735d-4d99-91ef-e70efb12ef05",
   "metadata": {},
   "outputs": [
    {
     "name": "stdin",
     "output_type": "stream",
     "text": [
      "Enter your string:  Aman Rahul is good boy\n",
      "Enter word to remove:  Rahul\n"
     ]
    },
    {
     "name": "stdout",
     "output_type": "stream",
     "text": [
      "String with word removed: Aman is good boy\n"
     ]
    }
   ],
   "source": [
    "s = input(\"Enter your string: \")\n",
    "word_to_remove = input(\"Enter word to remove: \")\n",
    "removed_word_string = \" \".join(word for word in s.split() if word != word_to_remove)\n",
    "print(\"String with word removed:\", removed_word_string)"
   ]
  },
  {
   "cell_type": "markdown",
   "id": "4d71571c-3e16-43f3-93e3-29fa79a8bf0a",
   "metadata": {},
   "source": [
    "### 30. Check if a string is a valid email address."
   ]
  },
  {
   "cell_type": "code",
   "execution_count": 50,
   "id": "ed2fb540-5c2f-4967-b5ab-3c4480462169",
   "metadata": {},
   "outputs": [
    {
     "name": "stdin",
     "output_type": "stream",
     "text": [
      "Enter your email address:  aman@aman.com\n"
     ]
    },
    {
     "name": "stdout",
     "output_type": "stream",
     "text": [
      "Is valid email address: True\n"
     ]
    }
   ],
   "source": [
    "import re\n",
    "\n",
    "email = input(\"Enter your email address: \")\n",
    "is_valid_email = bool(re.match(r\"[^@]+@[^@]+\\.[^@]+\", email))\n",
    "print(\"Is valid email address:\", is_valid_email)"
   ]
  },
  {
   "cell_type": "markdown",
   "id": "ad8bace3-76d7-4368-98b8-659ec0ac6e82",
   "metadata": {},
   "source": [
    "### 31. Extract the username from an email address string."
   ]
  },
  {
   "cell_type": "code",
   "execution_count": 51,
   "id": "2025272e-79b2-436c-a898-370934946789",
   "metadata": {},
   "outputs": [
    {
     "name": "stdin",
     "output_type": "stream",
     "text": [
      "Enter your email address:  aman@aman.com\n"
     ]
    },
    {
     "name": "stdout",
     "output_type": "stream",
     "text": [
      "Username: aman\n"
     ]
    }
   ],
   "source": [
    "email = input(\"Enter your email address: \")\n",
    "username = email.split('@')[0]\n",
    "print(\"Username:\", username)"
   ]
  },
  {
   "cell_type": "markdown",
   "id": "3f404b8f-597b-4dc8-b349-a3bd9c8c40db",
   "metadata": {},
   "source": [
    "### 32. Extract the domain name from an email address string."
   ]
  },
  {
   "cell_type": "code",
   "execution_count": 52,
   "id": "08b2b147-5810-4b59-aafc-c5e387a3fa2a",
   "metadata": {},
   "outputs": [
    {
     "name": "stdin",
     "output_type": "stream",
     "text": [
      "Enter your email address:  aman@gmail.com\n"
     ]
    },
    {
     "name": "stdout",
     "output_type": "stream",
     "text": [
      "Domain name: gmail\n"
     ]
    }
   ],
   "source": [
    "email = input(\"Enter your email address: \")\n",
    "domain_name = email.split('@')[1].split('.')[0]\n",
    "print(\"Domain name:\", domain_name)"
   ]
  },
  {
   "cell_type": "markdown",
   "id": "492335ca-fc4a-4b9a-9f19-7b4ba57ddf72",
   "metadata": {},
   "source": [
    "### 33. Replace multiple spaces in a string with a single space."
   ]
  },
  {
   "cell_type": "code",
   "execution_count": 53,
   "id": "f53e1732-e79e-489c-a1aa-b88660998b1f",
   "metadata": {},
   "outputs": [
    {
     "name": "stdin",
     "output_type": "stream",
     "text": [
      "Enter your string:  Aman         has a             black     cat.\n"
     ]
    },
    {
     "name": "stdout",
     "output_type": "stream",
     "text": [
      "String with single spaces: Aman has a black cat.\n"
     ]
    }
   ],
   "source": [
    "s = input(\"Enter your string: \")\n",
    "single_space_string = \" \".join(s.split())\n",
    "print(\"String with single spaces:\", single_space_string)"
   ]
  },
  {
   "cell_type": "markdown",
   "id": "d83e2ccc-0c44-4b21-85a1-e21fe3355bc4",
   "metadata": {},
   "source": [
    "### 34. Check if a string is a valid URL."
   ]
  },
  {
   "cell_type": "code",
   "execution_count": 54,
   "id": "b5fd9083-41fc-40ec-9fc1-294a2d715c32",
   "metadata": {},
   "outputs": [
    {
     "name": "stdin",
     "output_type": "stream",
     "text": [
      "Enter your URL:  https://orange-photographer-miigb.pwskills.app/lab/tree/work/Untitled.ipynb\n"
     ]
    },
    {
     "name": "stdout",
     "output_type": "stream",
     "text": [
      "Is valid URL: True\n"
     ]
    }
   ],
   "source": [
    "import re\n",
    "\n",
    "url = input(\"Enter your URL: \")\n",
    "is_valid_url = bool(re.match(r\"https?://[^\\s]+\", url))\n",
    "print(\"Is valid URL:\", is_valid_url)"
   ]
  },
  {
   "cell_type": "markdown",
   "id": "554cb0f9-4a50-4dd1-bb90-acd2208fa917",
   "metadata": {},
   "source": [
    "### 35. Extract the protocol (http or https) from a URL string."
   ]
  },
  {
   "cell_type": "code",
   "execution_count": 55,
   "id": "48bb3ff2-3631-499a-a1dc-394d13711083",
   "metadata": {},
   "outputs": [
    {
     "name": "stdin",
     "output_type": "stream",
     "text": [
      "Enter your URL:  https://orange-photographer-miigb.pwskills.app/lab/tree/work/Untitled.ipynb\n"
     ]
    },
    {
     "name": "stdout",
     "output_type": "stream",
     "text": [
      "Protocol: https\n"
     ]
    }
   ],
   "source": [
    "url = input(\"Enter your URL: \")\n",
    "protocol = url.split(':')[0]\n",
    "print(\"Protocol:\", protocol)"
   ]
  },
  {
   "cell_type": "markdown",
   "id": "be775692-f3df-48bf-a018-ed1cca8593c8",
   "metadata": {},
   "source": [
    "### 36. Find the frequency of each character in a string."
   ]
  },
  {
   "cell_type": "code",
   "execution_count": 56,
   "id": "c23c55df-35cb-47f9-932a-10b0dbe14187",
   "metadata": {},
   "outputs": [
    {
     "name": "stdin",
     "output_type": "stream",
     "text": [
      "Enter your string:  Aman And Rahul are Aman And Rahul kumar\n"
     ]
    },
    {
     "name": "stdout",
     "output_type": "stream",
     "text": [
      "Character frequency: Counter({' ': 7, 'a': 6, 'A': 4, 'n': 4, 'm': 3, 'u': 3, 'd': 2, 'R': 2, 'h': 2, 'l': 2, 'r': 2, 'e': 1, 'k': 1})\n"
     ]
    }
   ],
   "source": [
    "from collections import Counter\n",
    "\n",
    "s = input(\"Enter your string: \")\n",
    "character_frequency = Counter(s)\n",
    "print(\"Character frequency:\", character_frequency)"
   ]
  },
  {
   "cell_type": "markdown",
   "id": "3ad91db9-17b8-403d-896e-983fc3341dc3",
   "metadata": {},
   "source": [
    "### 37. Remove all punctuation from a string."
   ]
  },
  {
   "cell_type": "code",
   "execution_count": 57,
   "id": "85e2c902-c876-441f-b0de-d2c2eb92c1be",
   "metadata": {},
   "outputs": [
    {
     "name": "stdin",
     "output_type": "stream",
     "text": [
      "Enter your string:  import string  s = input(\"Enter your string: \") no_punctuation_string = s.translate(str.maketrans(\"\", \"\", string.punctuation)) print(\"String without punctuation:\", no_punctuation_string)\n"
     ]
    },
    {
     "name": "stdout",
     "output_type": "stream",
     "text": [
      "String without punctuation: import string  s  inputEnter your string  nopunctuationstring  stranslatestrmaketrans  stringpunctuation printString without punctuation nopunctuationstring\n"
     ]
    }
   ],
   "source": [
    "import string\n",
    "\n",
    "s = input(\"Enter your string: \")\n",
    "no_punctuation_string = s.translate(str.maketrans(\"\", \"\", string.punctuation))\n",
    "print(\"String without punctuation:\", no_punctuation_string)"
   ]
  },
  {
   "cell_type": "markdown",
   "id": "faa9a4cb-4dcb-4729-9fb7-666cbd50d534",
   "metadata": {},
   "source": [
    "### 38. Check if a string contains only digits."
   ]
  },
  {
   "cell_type": "code",
   "execution_count": 58,
   "id": "d9adfcf8-de88-44a3-93a0-04bd4f4debfe",
   "metadata": {},
   "outputs": [
    {
     "name": "stdin",
     "output_type": "stream",
     "text": [
      "Enter your string:  1234567890\n"
     ]
    },
    {
     "name": "stdout",
     "output_type": "stream",
     "text": [
      "Contains only digits: True\n"
     ]
    }
   ],
   "source": [
    "s = input(\"Enter your string: \")\n",
    "contains_only_digits = s.isdigit()\n",
    "print(\"Contains only digits:\", contains_only_digits)"
   ]
  },
  {
   "cell_type": "markdown",
   "id": "f4e6cca2-ebd9-489c-a233-b7d1fef5a9c3",
   "metadata": {},
   "source": [
    "### 39. Check if a string contains only alphabets."
   ]
  },
  {
   "cell_type": "code",
   "execution_count": 59,
   "id": "1a4280b5-ed86-4dde-abca-d525f6e5a0d2",
   "metadata": {},
   "outputs": [
    {
     "name": "stdin",
     "output_type": "stream",
     "text": [
      "Enter your string:  aman jcxbc cscc\n"
     ]
    },
    {
     "name": "stdout",
     "output_type": "stream",
     "text": [
      "Contains only alphabets: False\n"
     ]
    }
   ],
   "source": [
    "s = input(\"Enter your string: \")\n",
    "contains_only_alphabets = s.isalpha()\n",
    "print(\"Contains only alphabets:\", contains_only_alphabets)"
   ]
  },
  {
   "cell_type": "markdown",
   "id": "e622b254-e3f9-47fa-9664-e56eccda18fb",
   "metadata": {},
   "source": [
    "### 40. Convert a string to a list of characters."
   ]
  },
  {
   "cell_type": "code",
   "execution_count": 60,
   "id": "328d64c7-c414-48b3-80bd-6b02ecf70dc4",
   "metadata": {},
   "outputs": [
    {
     "name": "stdin",
     "output_type": "stream",
     "text": [
      "Enter your string:  aman is a good boy\n"
     ]
    },
    {
     "name": "stdout",
     "output_type": "stream",
     "text": [
      "List of characters: ['a', 'm', 'a', 'n', ' ', 'i', 's', ' ', 'a', ' ', 'g', 'o', 'o', 'd', ' ', 'b', 'o', 'y']\n"
     ]
    }
   ],
   "source": [
    "s = input(\"Enter your string: \")\n",
    "characters_list = list(s)\n",
    "print(\"List of characters:\", characters_list)"
   ]
  },
  {
   "cell_type": "markdown",
   "id": "3f130f67-0f53-462f-aab0-e655235ee6a9",
   "metadata": {},
   "source": [
    "### 41. Check if two strings are anagrams."
   ]
  },
  {
   "cell_type": "code",
   "execution_count": 61,
   "id": "3b19d6eb-c6ac-42a4-b185-72e35cb6c3f0",
   "metadata": {},
   "outputs": [
    {
     "name": "stdin",
     "output_type": "stream",
     "text": [
      "Enter first string:  AMAN KUMAR\n",
      "Enter second string:  KMURA MANA\n"
     ]
    },
    {
     "name": "stdout",
     "output_type": "stream",
     "text": [
      "Are strings anagrams: True\n"
     ]
    }
   ],
   "source": [
    "s1 = input(\"Enter first string: \")\n",
    "s2 = input(\"Enter second string: \")\n",
    "are_anagrams = sorted(s1) == sorted(s2)\n",
    "print(\"Are strings anagrams:\", are_anagrams)"
   ]
  },
  {
   "cell_type": "markdown",
   "id": "e8a2d7bc-66a5-4b02-9f04-9a10987803ae",
   "metadata": {},
   "source": [
    "### 42. Encode a string using a Caesar cipher."
   ]
  },
  {
   "cell_type": "code",
   "execution_count": 62,
   "id": "c95624fd-a779-409d-8b4c-85db17e4f188",
   "metadata": {},
   "outputs": [
    {
     "name": "stdin",
     "output_type": "stream",
     "text": [
      "Enter your string:  Aman Kumar\n",
      "Enter shift value:  2\n"
     ]
    },
    {
     "name": "stdout",
     "output_type": "stream",
     "text": [
      "Encoded string: Cocp Mwoct\n"
     ]
    }
   ],
   "source": [
    "s = input(\"Enter your string: \")\n",
    "shift = int(input(\"Enter shift value: \"))\n",
    "encoded_string = \"\".join(chr((ord(char) + shift - 65) % 26 + 65) if char.isupper() else chr((ord(char) + shift - 97) % 26 + 97) if char.islower() else char for char in s)\n",
    "print(\"Encoded string:\", encoded_string)"
   ]
  },
  {
   "cell_type": "markdown",
   "id": "d26cd71b-e6a4-4b93-b2f7-cc515336d9f1",
   "metadata": {},
   "source": [
    "### 43. Decode a Caesar cipher encoded string."
   ]
  },
  {
   "cell_type": "code",
   "execution_count": 63,
   "id": "00f4436d-cdb0-4abe-8d31-d07bb2c9a552",
   "metadata": {},
   "outputs": [
    {
     "name": "stdin",
     "output_type": "stream",
     "text": [
      "Enter your encoded string:  Cocp Mwoct\n",
      "Enter shift value:  2\n"
     ]
    },
    {
     "name": "stdout",
     "output_type": "stream",
     "text": [
      "Decoded string: Aman Kumar\n"
     ]
    }
   ],
   "source": [
    "s = input(\"Enter your encoded string: \")\n",
    "shift = int(input(\"Enter shift value: \"))\n",
    "decoded_string = \"\".join(chr((ord(char) - shift - 65) % 26 + 65) if char.isupper() else chr((ord(char) - shift - 97) % 26 + 97) if char.islower() else char for char in s)\n",
    "print(\"Decoded string:\", decoded_string)"
   ]
  },
  {
   "cell_type": "markdown",
   "id": "871b1842-995e-4a99-aaa9-70fbf966a1bd",
   "metadata": {},
   "source": [
    "### 44. Find the most frequent word in a string."
   ]
  },
  {
   "cell_type": "code",
   "execution_count": 64,
   "id": "8f44cd7f-e772-434b-ae20-9a87e92601f5",
   "metadata": {},
   "outputs": [
    {
     "name": "stdin",
     "output_type": "stream",
     "text": [
      "Enter your string:  Aman Aman Aman aman amna ccg alaa\n"
     ]
    },
    {
     "name": "stdout",
     "output_type": "stream",
     "text": [
      "Most frequent word: Aman\n"
     ]
    }
   ],
   "source": [
    "s = input(\"Enter your string: \")\n",
    "most_frequent_word = max(set(s.split()), key=s.split().count)\n",
    "print(\"Most frequent word:\", most_frequent_word)"
   ]
  },
  {
   "cell_type": "markdown",
   "id": "835e2d46-ac73-4afb-afc8-297e840ba0eb",
   "metadata": {},
   "source": [
    "### 45. Find all unique words in a string."
   ]
  },
  {
   "cell_type": "code",
   "execution_count": 65,
   "id": "57c544d0-3d73-4ace-a6c6-3c49c2ebd6ee",
   "metadata": {},
   "outputs": [
    {
     "name": "stdin",
     "output_type": "stream",
     "text": [
      "Enter your string:  AMan aman aman kumar is is a good good boy\n"
     ]
    },
    {
     "name": "stdout",
     "output_type": "stream",
     "text": [
      "Unique words: {'boy', 'a', 'kumar', 'good', 'aman', 'AMan', 'is'}\n"
     ]
    }
   ],
   "source": [
    "s = input(\"Enter your string: \")\n",
    "unique_words = set(s.split())\n",
    "print(\"Unique words:\", unique_words)"
   ]
  },
  {
   "cell_type": "markdown",
   "id": "c8e30313-f561-4cca-aace-2da4c335d827",
   "metadata": {},
   "source": [
    "### 46. Count the number of syllables in a string."
   ]
  },
  {
   "cell_type": "code",
   "execution_count": 66,
   "id": "b702f505-4728-41ce-b8f0-4d5590c96ae0",
   "metadata": {},
   "outputs": [
    {
     "name": "stdin",
     "output_type": "stream",
     "text": [
      "Enter your string:  AMan is a good biy\n"
     ]
    },
    {
     "name": "stdout",
     "output_type": "stream",
     "text": [
      "Number of syllables: 6\n"
     ]
    }
   ],
   "source": [
    "import re\n",
    "\n",
    "def count_syllables(word):\n",
    "    return max(1, len(re.findall(r'[aeiouy]+', word, flags=re.I)))\n",
    "\n",
    "s = input(\"Enter your string: \")\n",
    "num_syllables = sum(count_syllables(word) for word in s.split())\n",
    "print(\"Number of syllables:\", num_syllables)"
   ]
  },
  {
   "cell_type": "markdown",
   "id": "5c65cbe4-e01d-4dc4-ab45-349cbd38d4bc",
   "metadata": {},
   "source": [
    "### 47. Check if a string contains any special characters."
   ]
  },
  {
   "cell_type": "code",
   "execution_count": 67,
   "id": "bd753923-6c65-4aef-8980-69d88e3b398e",
   "metadata": {},
   "outputs": [
    {
     "name": "stdin",
     "output_type": "stream",
     "text": [
      "Enter your string:  AMan is () ; haha hvcv --+=\n"
     ]
    },
    {
     "name": "stdout",
     "output_type": "stream",
     "text": [
      "Contains special characters: True\n"
     ]
    }
   ],
   "source": [
    "import string\n",
    "\n",
    "s = input(\"Enter your string: \")\n",
    "contains_special_characters = any(char in string.punctuation for char in s)\n",
    "print(\"Contains special characters:\", contains_special_characters)"
   ]
  },
  {
   "cell_type": "markdown",
   "id": "5f724508-8f5e-4012-b609-c47cf04ffffa",
   "metadata": {},
   "source": [
    "### 48. Remove the nth word from a string."
   ]
  },
  {
   "cell_type": "code",
   "execution_count": 69,
   "id": "6ebbd1a3-93d6-4db0-ae67-301c0b1df9e0",
   "metadata": {},
   "outputs": [
    {
     "name": "stdin",
     "output_type": "stream",
     "text": [
      "Enter your string:  Aman is not a good boy\n",
      "Enter the position of the word to remove:  3\n"
     ]
    },
    {
     "name": "stdout",
     "output_type": "stream",
     "text": [
      "String with nth word removed: Aman is a good boy\n"
     ]
    }
   ],
   "source": [
    "s = input(\"Enter your string: \")\n",
    "n = int(input(\"Enter the position of the word to remove: \"))\n",
    "words = s.split()\n",
    "if 0 < n <= len(words):\n",
    "    del words[n - 1]\n",
    "    updated_string = \" \".join(words)\n",
    "    print(\"String with nth word removed:\", updated_string)\n",
    "else:\n",
    "    print(\"Invalid position. No changes made.\")"
   ]
  },
  {
   "cell_type": "markdown",
   "id": "1e98d954-bb5b-4dcb-ad29-8bcf10c7dbed",
   "metadata": {},
   "source": [
    "### 49. Insert a word at the nth position in a string."
   ]
  },
  {
   "cell_type": "code",
   "execution_count": 71,
   "id": "ae42d1e1-c9c3-4076-b576-217289b937df",
   "metadata": {},
   "outputs": [
    {
     "name": "stdin",
     "output_type": "stream",
     "text": [
      "Enter your string:  Aman has a cat\n",
      "Enter the position to insert the word:  4\n",
      "Enter word to insert:  black\n"
     ]
    },
    {
     "name": "stdout",
     "output_type": "stream",
     "text": [
      "String with word inserted: Aman has a cat black\n"
     ]
    }
   ],
   "source": [
    "s = input(\"Enter your string: \")\n",
    "n = int(input(\"Enter the position to insert the word: \"))\n",
    "word_to_insert = input(\"Enter word to insert: \")\n",
    "words = s.split()\n",
    "if 0 <= n <= len(words):\n",
    "    words.insert(n, word_to_insert)\n",
    "    updated_string = \" \".join(words)\n",
    "    print(\"String with word inserted:\", updated_string)\n",
    "else:\n",
    "    print(\"Invalid position. No changes made.\")"
   ]
  },
  {
   "cell_type": "markdown",
   "id": "d3490019-c15f-4a4c-b6c3-9176d440419a",
   "metadata": {},
   "source": [
    "### 50. Convert a CSV string to a list of lists."
   ]
  },
  {
   "cell_type": "code",
   "execution_count": 73,
   "id": "dbe4dab9-7dd3-429a-8d7c-57d33f9e895d",
   "metadata": {},
   "outputs": [
    {
     "name": "stdin",
     "output_type": "stream",
     "text": [
      "Enter your CSV string:  aman,is,a,good,boy\n"
     ]
    },
    {
     "name": "stdout",
     "output_type": "stream",
     "text": [
      "List of lists: [['aman', 'is', 'a', 'good', 'boy']]\n"
     ]
    }
   ],
   "source": [
    "csv_string = input(\"Enter your CSV string: \")\n",
    "list_of_lists = [row.split(',') for row in csv_string.split('\\n') if row]\n",
    "print(\"List of lists:\", list_of_lists)"
   ]
  },
  {
   "cell_type": "markdown",
   "id": "f9d812e1-b2dd-41f4-89f6-3a0abe68e6b2",
   "metadata": {},
   "source": [
    "## List Based Practice Problem :"
   ]
  },
  {
   "cell_type": "markdown",
   "id": "bb1d57ce-d056-4e3e-a658-f3a5c6ca86d4",
   "metadata": {
    "tags": []
   },
   "source": [
    "### 1. Create a list with integers from 1 to 10."
   ]
  },
  {
   "cell_type": "code",
   "execution_count": 4,
   "id": "e9942292-6860-4901-99af-01c25a3fbc2f",
   "metadata": {},
   "outputs": [
    {
     "name": "stdout",
     "output_type": "stream",
     "text": [
      "List of integers from 1 to 10: [1, 2, 3, 4, 5, 6, 7, 8, 9, 10]\n"
     ]
    }
   ],
   "source": [
    "integer_list = list(range(1, 11))\n",
    "print(\"List of integers from 1 to 10:\", integer_list)"
   ]
  },
  {
   "cell_type": "markdown",
   "id": "6b0a502c-d6f0-49ba-9804-723f63e7da40",
   "metadata": {},
   "source": [
    "### 2. Find the length of a list without using the `len()` function."
   ]
  },
  {
   "cell_type": "code",
   "execution_count": 5,
   "id": "39bd41e3-89c9-43f3-9322-11faae2fa383",
   "metadata": {},
   "outputs": [
    {
     "name": "stdout",
     "output_type": "stream",
     "text": [
      "Length of the list: 10\n"
     ]
    }
   ],
   "source": [
    "length_of_list = sum(1 for _ in integer_list)\n",
    "print(\"Length of the list:\", length_of_list)"
   ]
  },
  {
   "cell_type": "markdown",
   "id": "8e4df829-3f56-4ca5-a611-35fbc5e669f4",
   "metadata": {},
   "source": [
    "### 3. Append an element to the end of a list."
   ]
  },
  {
   "cell_type": "code",
   "execution_count": 7,
   "id": "b6fed72c-d30e-43af-8c1f-cb3aafb97b19",
   "metadata": {},
   "outputs": [
    {
     "name": "stdin",
     "output_type": "stream",
     "text": [
      "Enter element to append:  12\n"
     ]
    },
    {
     "name": "stdout",
     "output_type": "stream",
     "text": [
      "List after appending element: [1, 2, 3, 4, 5, 6, 7, 8, 9, 10, 13, 12]\n"
     ]
    }
   ],
   "source": [
    "element_to_append = int(input(\"Enter element to append: \"))\n",
    "integer_list.append(element_to_append)\n",
    "print(\"List after appending element:\", integer_list)"
   ]
  },
  {
   "cell_type": "markdown",
   "id": "4ac699e6-95c3-4a63-8fbf-6fe29fe7153f",
   "metadata": {},
   "source": [
    "### 4. Insert an element at a specific index in a list."
   ]
  },
  {
   "cell_type": "code",
   "execution_count": 8,
   "id": "894275f2-e026-4e05-b04a-a12dd3b0991c",
   "metadata": {},
   "outputs": [
    {
     "name": "stdin",
     "output_type": "stream",
     "text": [
      "Enter element to insert:  3\n",
      "Enter index to insert at:  3\n"
     ]
    },
    {
     "name": "stdout",
     "output_type": "stream",
     "text": [
      "List after inserting element: [1, 2, 3, 3, 4, 5, 6, 7, 8, 9, 10, 13, 12]\n"
     ]
    }
   ],
   "source": [
    "element_to_insert = int(input(\"Enter element to insert: \"))\n",
    "index_to_insert = int(input(\"Enter index to insert at: \"))\n",
    "integer_list.insert(index_to_insert, element_to_insert)\n",
    "print(\"List after inserting element:\", integer_list)"
   ]
  },
  {
   "cell_type": "markdown",
   "id": "ec8eb557-a111-44b8-a627-84ff36e27a16",
   "metadata": {},
   "source": [
    "### 5. Remove an element from a list by its value."
   ]
  },
  {
   "cell_type": "code",
   "execution_count": 9,
   "id": "f07d0383-3026-4e22-a115-df8909a298c0",
   "metadata": {},
   "outputs": [
    {
     "name": "stdin",
     "output_type": "stream",
     "text": [
      "Enter element to remove:  3\n"
     ]
    },
    {
     "name": "stdout",
     "output_type": "stream",
     "text": [
      "List after removing element: [1, 2, 3, 4, 5, 6, 7, 8, 9, 10, 13, 12]\n"
     ]
    }
   ],
   "source": [
    "element_to_remove = int(input(\"Enter element to remove: \"))\n",
    "if element_to_remove in integer_list:\n",
    "    integer_list.remove(element_to_remove)\n",
    "    print(\"List after removing element:\", integer_list)\n",
    "else:\n",
    "    print(\"Element not found in the list. No changes made.\")"
   ]
  },
  {
   "cell_type": "markdown",
   "id": "46a81333-2db2-4aff-a40c-2cb28f754243",
   "metadata": {},
   "source": [
    "### 6. Remove an element from a list by its index."
   ]
  },
  {
   "cell_type": "code",
   "execution_count": 10,
   "id": "cd6c9652-b74c-4553-aa50-628511c9bc7c",
   "metadata": {},
   "outputs": [
    {
     "name": "stdin",
     "output_type": "stream",
     "text": [
      "Enter index to remove:  2\n"
     ]
    },
    {
     "name": "stdout",
     "output_type": "stream",
     "text": [
      "List after removing element at index: [1, 2, 4, 5, 6, 7, 8, 9, 10, 13, 12]\n"
     ]
    }
   ],
   "source": [
    "index_to_remove = int(input(\"Enter index to remove: \"))\n",
    "if 0 <= index_to_remove < len(integer_list):\n",
    "    del integer_list[index_to_remove]\n",
    "    print(\"List after removing element at index:\", integer_list)\n",
    "else:\n",
    "    print(\"Invalid index. No changes made.\")"
   ]
  },
  {
   "cell_type": "markdown",
   "id": "ba767f80-64c8-46d7-8b4d-a671a77878d2",
   "metadata": {},
   "source": [
    "### 7. Check if an element exists in a list."
   ]
  },
  {
   "cell_type": "code",
   "execution_count": 11,
   "id": "f931f594-4646-480c-8410-d0acaee68c9a",
   "metadata": {},
   "outputs": [
    {
     "name": "stdin",
     "output_type": "stream",
     "text": [
      "Enter element to check:  5\n"
     ]
    },
    {
     "name": "stdout",
     "output_type": "stream",
     "text": [
      "Element present in the list: True\n"
     ]
    }
   ],
   "source": [
    "element_to_check = int(input(\"Enter element to check: \"))\n",
    "is_element_present = element_to_check in integer_list\n",
    "print(\"Element present in the list:\", is_element_present)"
   ]
  },
  {
   "cell_type": "markdown",
   "id": "a21ecd04-fa82-49f0-a59c-30cf4130b02f",
   "metadata": {},
   "source": [
    "### 8. Find the index of the first occurrence of an element in a list."
   ]
  },
  {
   "cell_type": "code",
   "execution_count": 12,
   "id": "c6f2824f-663d-4d90-8b81-f26d58a48e74",
   "metadata": {},
   "outputs": [
    {
     "name": "stdin",
     "output_type": "stream",
     "text": [
      "Enter element to find:  5\n"
     ]
    },
    {
     "name": "stdout",
     "output_type": "stream",
     "text": [
      "Index of first occurrence: 3\n"
     ]
    }
   ],
   "source": [
    "element_to_find = int(input(\"Enter element to find: \"))\n",
    "first_occurrence_index = integer_list.index(element_to_find) if element_to_find in integer_list else -1\n",
    "print(\"Index of first occurrence:\", first_occurrence_index)"
   ]
  },
  {
   "cell_type": "markdown",
   "id": "0c72c095-6f2f-475c-8d07-672e7586b5cb",
   "metadata": {},
   "source": [
    "### 9. Count the occurrences of an element in a list."
   ]
  },
  {
   "cell_type": "code",
   "execution_count": 13,
   "id": "69c3eedc-cca4-4d01-a4aa-7c407b492830",
   "metadata": {},
   "outputs": [
    {
     "name": "stdin",
     "output_type": "stream",
     "text": [
      "Enter element to count:  13\n"
     ]
    },
    {
     "name": "stdout",
     "output_type": "stream",
     "text": [
      "Occurrences of the element: 1\n"
     ]
    }
   ],
   "source": [
    "element_to_count = int(input(\"Enter element to count: \"))\n",
    "occurrences_count = integer_list.count(element_to_count)\n",
    "print(\"Occurrences of the element:\", occurrences_count)"
   ]
  },
  {
   "cell_type": "markdown",
   "id": "e0efa3a0-3576-4b3c-b3b8-5eafaf0eafe6",
   "metadata": {},
   "source": [
    "### 10. Reverse the order of elements in a list."
   ]
  },
  {
   "cell_type": "code",
   "execution_count": 14,
   "id": "fad8f3f3-cbd8-4628-8664-4f4ed31f6186",
   "metadata": {},
   "outputs": [
    {
     "name": "stdout",
     "output_type": "stream",
     "text": [
      "Reversed list: [12, 13, 10, 9, 8, 7, 6, 5, 4, 2, 1]\n"
     ]
    }
   ],
   "source": [
    "reversed_list = list(reversed(integer_list))\n",
    "print(\"Reversed list:\", reversed_list)"
   ]
  },
  {
   "cell_type": "markdown",
   "id": "b930e034-7540-4902-80b6-1355729b6c49",
   "metadata": {},
   "source": [
    "### 11. Sort a list in ascending order."
   ]
  },
  {
   "cell_type": "code",
   "execution_count": 15,
   "id": "f5fa547c-fee3-42e8-94a5-8e92314d4e65",
   "metadata": {},
   "outputs": [
    {
     "name": "stdout",
     "output_type": "stream",
     "text": [
      "Sorted list in ascending order: [1, 2, 4, 5, 6, 7, 8, 9, 10, 12, 13]\n"
     ]
    }
   ],
   "source": [
    "sorted_list_ascending = sorted(integer_list)\n",
    "print(\"Sorted list in ascending order:\", sorted_list_ascending)"
   ]
  },
  {
   "cell_type": "markdown",
   "id": "29f07676-fb27-4ae4-b253-5038fadc29ce",
   "metadata": {},
   "source": [
    "### 12. Sort a list in descending order."
   ]
  },
  {
   "cell_type": "code",
   "execution_count": 16,
   "id": "12e374f5-a325-42d9-bf89-8eb4fb3670a2",
   "metadata": {},
   "outputs": [
    {
     "name": "stdout",
     "output_type": "stream",
     "text": [
      "Sorted list in descending order: [13, 12, 10, 9, 8, 7, 6, 5, 4, 2, 1]\n"
     ]
    }
   ],
   "source": [
    "sorted_list_descending = sorted(integer_list, reverse=True)\n",
    "print(\"Sorted list in descending order:\", sorted_list_descending)"
   ]
  },
  {
   "cell_type": "markdown",
   "id": "affaddd8-c0b8-4b33-aece-1342702be0e6",
   "metadata": {},
   "source": [
    "### 13. Create a list of even numbers from 1 to 20."
   ]
  },
  {
   "cell_type": "code",
   "execution_count": 17,
   "id": "d44b781a-cb39-4c48-8423-8e1c7b5d528c",
   "metadata": {},
   "outputs": [
    {
     "name": "stdout",
     "output_type": "stream",
     "text": [
      "List of even numbers from 1 to 20: [2, 4, 6, 8, 10, 12, 14, 16, 18, 20]\n"
     ]
    }
   ],
   "source": [
    "even_numbers_list = list(range(2, 21, 2))\n",
    "print(\"List of even numbers from 1 to 20:\", even_numbers_list)"
   ]
  },
  {
   "cell_type": "markdown",
   "id": "3c7abee3-3f46-4626-87fc-e8e18a4ea10c",
   "metadata": {},
   "source": [
    "### 14. Create a list of odd numbers from 1 to 20."
   ]
  },
  {
   "cell_type": "code",
   "execution_count": 18,
   "id": "30ca83e5-3729-402b-8009-94fe051dd56d",
   "metadata": {},
   "outputs": [
    {
     "name": "stdout",
     "output_type": "stream",
     "text": [
      "List of odd numbers from 1 to 20: [1, 3, 5, 7, 9, 11, 13, 15, 17, 19]\n"
     ]
    }
   ],
   "source": [
    "odd_numbers_list = list(range(1, 21, 2))\n",
    "print(\"List of odd numbers from 1 to 20:\", odd_numbers_list)"
   ]
  },
  {
   "cell_type": "markdown",
   "id": "540531c6-2c4a-41c6-a1f0-dec3dd7eec44",
   "metadata": {},
   "source": [
    "### 15. Find the sum of all elements in a list."
   ]
  },
  {
   "cell_type": "code",
   "execution_count": 19,
   "id": "1063c283-7f39-4661-8930-af9d5f76e4e2",
   "metadata": {},
   "outputs": [
    {
     "name": "stdout",
     "output_type": "stream",
     "text": [
      "Sum of elements in the list: 77\n"
     ]
    }
   ],
   "source": [
    "sum_of_elements = sum(integer_list)\n",
    "print(\"Sum of elements in the list:\", sum_of_elements)"
   ]
  },
  {
   "cell_type": "markdown",
   "id": "63f295f3-5dc3-4811-a493-d07df4e815bd",
   "metadata": {},
   "source": [
    "### 16. Find the maximum value in a list."
   ]
  },
  {
   "cell_type": "code",
   "execution_count": 20,
   "id": "fb34562a-83bd-426f-b124-5be7117901b3",
   "metadata": {},
   "outputs": [
    {
     "name": "stdout",
     "output_type": "stream",
     "text": [
      "Maximum value in the list: 13\n"
     ]
    }
   ],
   "source": [
    "max_value = max(integer_list)\n",
    "print(\"Maximum value in the list:\", max_value)"
   ]
  },
  {
   "cell_type": "markdown",
   "id": "0c4aa6e2-4e56-497f-b8f3-4cefed214d98",
   "metadata": {},
   "source": [
    "### 17. Find the minimum value in a list."
   ]
  },
  {
   "cell_type": "code",
   "execution_count": 21,
   "id": "b83d0166-cdd6-4630-8b92-8a0366b9c2eb",
   "metadata": {},
   "outputs": [
    {
     "name": "stdout",
     "output_type": "stream",
     "text": [
      "Minimum value in the list: 1\n"
     ]
    }
   ],
   "source": [
    "min_value = min(integer_list)\n",
    "print(\"Minimum value in the list:\", min_value)"
   ]
  },
  {
   "cell_type": "markdown",
   "id": "5bf15a9d-edb5-4878-8d69-ac4f3ee66dd5",
   "metadata": {},
   "source": [
    "### 18. Create a list of squares of numbers from 1 to 10."
   ]
  },
  {
   "cell_type": "code",
   "execution_count": 22,
   "id": "00ad85ea-8028-4f20-b924-7cf20fd4f301",
   "metadata": {},
   "outputs": [
    {
     "name": "stdout",
     "output_type": "stream",
     "text": [
      "List of squares of numbers from 1 to 10: [1, 4, 9, 16, 25, 36, 49, 64, 81, 100]\n"
     ]
    }
   ],
   "source": [
    "squares_list = [num**2 for num in range(1, 11)]\n",
    "print(\"List of squares of numbers from 1 to 10:\", squares_list)"
   ]
  },
  {
   "cell_type": "markdown",
   "id": "a8437e67-bec5-4d38-9e05-71b09d5c3eb6",
   "metadata": {},
   "source": [
    "### 19. Create a list of random numbers."
   ]
  },
  {
   "cell_type": "code",
   "execution_count": 23,
   "id": "04e6fd93-f4cf-4484-ba75-600b2ebe7f39",
   "metadata": {},
   "outputs": [
    {
     "name": "stdout",
     "output_type": "stream",
     "text": [
      "List of random numbers: [62, 6, 99, 12, 55, 98, 3, 39, 49, 86]\n"
     ]
    }
   ],
   "source": [
    "import random\n",
    "\n",
    "random_list = [random.randint(1, 100) for _ in range(10)]\n",
    "print(\"List of random numbers:\", random_list)"
   ]
  },
  {
   "cell_type": "markdown",
   "id": "0ae079b7-d3e9-4dc2-a0e6-befd7f616494",
   "metadata": {},
   "source": [
    "### 20. Remove duplicates from a list."
   ]
  },
  {
   "cell_type": "code",
   "execution_count": 24,
   "id": "3ebca2b3-67fc-4f98-b2ac-f10562d6fb8d",
   "metadata": {},
   "outputs": [
    {
     "name": "stdout",
     "output_type": "stream",
     "text": [
      "List with duplicates removed: [1, 2, 4, 5, 6, 7, 8, 9, 10, 12, 13]\n"
     ]
    }
   ],
   "source": [
    "unique_list = list(set(integer_list))\n",
    "print(\"List with duplicates removed:\", unique_list)"
   ]
  },
  {
   "cell_type": "markdown",
   "id": "37556816-2524-4af6-90f3-7dfb2946f958",
   "metadata": {},
   "source": [
    "### 21. Find the common elements between two lists."
   ]
  },
  {
   "cell_type": "code",
   "execution_count": 26,
   "id": "abf2e99d-1ee0-4f42-be28-298b44eae9bf",
   "metadata": {},
   "outputs": [
    {
     "name": "stdin",
     "output_type": "stream",
     "text": [
      "Enter second list of integers (separated by space):  1 14 2 3 34 5 66\n"
     ]
    },
    {
     "name": "stdout",
     "output_type": "stream",
     "text": [
      "Common elements between the two lists: [1, 2, 5]\n"
     ]
    }
   ],
   "source": [
    "second_list = list(map(int, input(\"Enter second list of integers (separated by space): \").split()))\n",
    "common_elements = list(set(integer_list) & set(second_list))\n",
    "print(\"Common elements between the two lists:\", common_elements)"
   ]
  },
  {
   "cell_type": "markdown",
   "id": "54de796d-7269-4fbd-984d-a2aae5ca3276",
   "metadata": {},
   "source": [
    "### 22. Find the difference between two lists."
   ]
  },
  {
   "cell_type": "code",
   "execution_count": 27,
   "id": "705c7401-3616-4c6c-8daf-8c33966be504",
   "metadata": {},
   "outputs": [
    {
     "name": "stdout",
     "output_type": "stream",
     "text": [
      "Difference between the two lists: [4, 6, 7, 8, 9, 10, 12, 13]\n"
     ]
    }
   ],
   "source": [
    "difference_elements = list(set(integer_list) - set(second_list))\n",
    "print(\"Difference between the two lists:\", difference_elements)"
   ]
  },
  {
   "cell_type": "markdown",
   "id": "6212eddd-14dd-4f99-87ab-a2df74cdd02f",
   "metadata": {},
   "source": [
    "### 23. Merge two lists."
   ]
  },
  {
   "cell_type": "code",
   "execution_count": 28,
   "id": "0d8c09db-63df-4da9-b5f9-20593cc63dbd",
   "metadata": {},
   "outputs": [
    {
     "name": "stdout",
     "output_type": "stream",
     "text": [
      "Merged list: [1, 2, 4, 5, 6, 7, 8, 9, 10, 13, 12, 1, 14, 2, 3, 34, 5, 66]\n"
     ]
    }
   ],
   "source": [
    "merged_list = integer_list + second_list\n",
    "print(\"Merged list:\", merged_list)"
   ]
  },
  {
   "cell_type": "markdown",
   "id": "b7bb37e0-b1d3-4c74-a33e-22f5dd3b8b2a",
   "metadata": {},
   "source": [
    "### 24. Multiply all elements in a list by 2."
   ]
  },
  {
   "cell_type": "code",
   "execution_count": 29,
   "id": "3e408a15-1201-491b-9ade-99b39fa09c40",
   "metadata": {},
   "outputs": [
    {
     "name": "stdout",
     "output_type": "stream",
     "text": [
      "List with elements multiplied by 2: [2, 4, 8, 10, 12, 14, 16, 18, 20, 26, 24]\n"
     ]
    }
   ],
   "source": [
    "doubled_list = [num * 2 for num in integer_list]\n",
    "print(\"List with elements multiplied by 2:\", doubled_list)"
   ]
  },
  {
   "cell_type": "markdown",
   "id": "8b4f4b0f-5952-4a39-b694-ef0cd6efa345",
   "metadata": {},
   "source": [
    "### 25. Filter out all even numbers from a list."
   ]
  },
  {
   "cell_type": "code",
   "execution_count": 30,
   "id": "374f4d5d-8d11-4a09-b2b0-a1010d8b0793",
   "metadata": {},
   "outputs": [
    {
     "name": "stdout",
     "output_type": "stream",
     "text": [
      "List with even numbers removed: [1, 5, 7, 9, 13]\n"
     ]
    }
   ],
   "source": [
    "filtered_odd_list = [num for num in integer_list if num % 2 != 0]\n",
    "print(\"List with even numbers removed:\", filtered_odd_list)"
   ]
  },
  {
   "cell_type": "markdown",
   "id": "66f52140-9b53-4d91-aba0-3c0f39d49f89",
   "metadata": {},
   "source": [
    "### 26. Convert a list of strings to a list of integers."
   ]
  },
  {
   "cell_type": "code",
   "execution_count": 31,
   "id": "8000bf9d-bf1f-4768-b0c8-eb693264e318",
   "metadata": {},
   "outputs": [
    {
     "name": "stdin",
     "output_type": "stream",
     "text": [
      "Enter list of strings (separated by space):  1 2 3 3 4 5 6\n"
     ]
    },
    {
     "name": "stdout",
     "output_type": "stream",
     "text": [
      "List of integers: [1, 2, 3, 3, 4, 5, 6]\n"
     ]
    }
   ],
   "source": [
    "string_list = input(\"Enter list of strings (separated by space): \").split()\n",
    "int_list = list(map(int, string_list))\n",
    "print(\"List of integers:\", int_list)"
   ]
  },
  {
   "cell_type": "markdown",
   "id": "96ee7b0a-6501-4960-a36c-08408cb06222",
   "metadata": {},
   "source": [
    "### 27. Convert a list of integers to a list of strings."
   ]
  },
  {
   "cell_type": "code",
   "execution_count": 32,
   "id": "b6f5f5d0-2ca2-4ed8-9dde-8a378e9b48f5",
   "metadata": {},
   "outputs": [
    {
     "name": "stdout",
     "output_type": "stream",
     "text": [
      "List of strings: ['1', '2', '4', '5', '6', '7', '8', '9', '10', '13', '12']\n"
     ]
    }
   ],
   "source": [
    "str_list = list(map(str, integer_list))\n",
    "print(\"List of strings:\", str_list)"
   ]
  },
  {
   "cell_type": "markdown",
   "id": "d54afbf4-c7e9-481f-a9d0-0a920e5a674d",
   "metadata": {},
   "source": [
    "### 28. Flatten a nested list."
   ]
  },
  {
   "cell_type": "code",
   "execution_count": 33,
   "id": "bfc5f5eb-d023-42f0-b9b8-44d7a1f5c3c0",
   "metadata": {},
   "outputs": [
    {
     "name": "stdout",
     "output_type": "stream",
     "text": [
      "Flattened list: [1, 2, 3, 4, 5, 6, 7, 8, 9]\n"
     ]
    }
   ],
   "source": [
    "nested_list = [[1, 2, 3], [4, 5, 6], [7, 8, 9]]\n",
    "flattened_list = [item for sublist in nested_list for item in sublist]\n",
    "print(\"Flattened list:\", flattened_list)"
   ]
  },
  {
   "cell_type": "markdown",
   "id": "cade6ad3-5484-40ec-8e9a-5d5155a87e5b",
   "metadata": {},
   "source": [
    "### 29. Create a list of the first 10 Fibonacci numbers."
   ]
  },
  {
   "cell_type": "code",
   "execution_count": 34,
   "id": "250980e1-01bb-4a15-b709-2dc42f0f8327",
   "metadata": {},
   "outputs": [
    {
     "name": "stdout",
     "output_type": "stream",
     "text": [
      "List of the first 10 Fibonacci numbers: [0, 1, 1, 2, 3, 5, 8, 13, 21, 34]\n"
     ]
    }
   ],
   "source": [
    "fibonacci_list = [0, 1]\n",
    "while len(fibonacci_list) < 10:\n",
    "    next_number = fibonacci_list[-1] + fibonacci_list[-2]\n",
    "    fibonacci_list.append(next_number)\n",
    "print(\"List of the first 10 Fibonacci numbers:\", fibonacci_list)"
   ]
  },
  {
   "cell_type": "markdown",
   "id": "eee52688-c09d-46e9-ac56-d64ecc3fb1ed",
   "metadata": {},
   "source": [
    "### 30. Check if a list is sorted."
   ]
  },
  {
   "cell_type": "code",
   "execution_count": 35,
   "id": "12bbe65e-780b-49ac-b272-977ca4a83394",
   "metadata": {},
   "outputs": [
    {
     "name": "stdout",
     "output_type": "stream",
     "text": [
      "List is sorted: False\n"
     ]
    }
   ],
   "source": [
    "is_sorted = all(integer_list[i] <= integer_list[i + 1] for i in range(len(integer_list) - 1))\n",
    "print(\"List is sorted:\", is_sorted)"
   ]
  },
  {
   "cell_type": "markdown",
   "id": "6631af3d-3020-4d90-bc27-f91780800680",
   "metadata": {},
   "source": [
    "### 31. Rotate a list to the left by `n` positions."
   ]
  },
  {
   "cell_type": "code",
   "execution_count": 36,
   "id": "05cb9884-7976-44d3-aaff-134158ea63f0",
   "metadata": {},
   "outputs": [
    {
     "name": "stdin",
     "output_type": "stream",
     "text": [
      "Enter number of positions to rotate left:  2\n"
     ]
    },
    {
     "name": "stdout",
     "output_type": "stream",
     "text": [
      "List after rotating left: [4, 5, 6, 7, 8, 9, 10, 13, 12, 1, 2]\n"
     ]
    }
   ],
   "source": [
    "n_positions = int(input(\"Enter number of positions to rotate left: \"))\n",
    "rotated_left_list = integer_list[n_positions:] + integer_list[:n_positions]\n",
    "print(\"List after rotating left:\", rotated_left_list)"
   ]
  },
  {
   "cell_type": "markdown",
   "id": "6e032b8e-295d-47d6-97eb-8337b1126617",
   "metadata": {},
   "source": [
    "### 32. Rotate a list to the right by `n` positions."
   ]
  },
  {
   "cell_type": "code",
   "execution_count": 38,
   "id": "1d52994d-e2d8-4489-a6e7-fa684e0ddbb1",
   "metadata": {},
   "outputs": [
    {
     "name": "stdin",
     "output_type": "stream",
     "text": [
      "Enter number of positions to rotate left:  12\n"
     ]
    },
    {
     "name": "stdout",
     "output_type": "stream",
     "text": [
      "List after rotating right: [1, 2, 4, 5, 6, 7, 8, 9, 10, 13, 12]\n"
     ]
    }
   ],
   "source": [
    "n_positions = int(input(\"Enter number of positions to rotate left: \"))\n",
    "rotated_right_list = integer_list[-n_positions:] + integer_list[:-n_positions]\n",
    "print(\"List after rotating right:\", rotated_right_list)"
   ]
  },
  {
   "cell_type": "markdown",
   "id": "d431b71d-03e1-4896-86cd-fa3e95b85826",
   "metadata": {},
   "source": [
    "### 33. Create a list of prime numbers up to 50."
   ]
  },
  {
   "cell_type": "code",
   "execution_count": 39,
   "id": "70c68725-5cdb-4d56-b708-9ff26fc3e4ed",
   "metadata": {},
   "outputs": [
    {
     "name": "stdout",
     "output_type": "stream",
     "text": [
      "List of prime numbers up to 50: [2, 3, 5, 7, 11, 13, 17, 19, 23, 29, 31, 37, 41, 43, 47]\n"
     ]
    }
   ],
   "source": [
    "def is_prime(num):\n",
    "    if num < 2:\n",
    "        return False\n",
    "    for i in range(2, int(num**0.5) + 1):\n",
    "        if num % i == 0:\n",
    "            return False\n",
    "    return True\n",
    "\n",
    "prime_numbers_list = [num for num in range(2, 51) if is_prime(num)]\n",
    "print(\"List of prime numbers up to 50:\", prime_numbers_list)"
   ]
  },
  {
   "cell_type": "markdown",
   "id": "ebe6e422-7a4b-4b90-8348-6465d39e95cc",
   "metadata": {},
   "source": [
    "### 34. Split a list into chunks of size `n`."
   ]
  },
  {
   "cell_type": "code",
   "execution_count": 40,
   "id": "586a5609-8b6c-4323-a666-256f55494cde",
   "metadata": {},
   "outputs": [
    {
     "name": "stdin",
     "output_type": "stream",
     "text": [
      "Enter chunk size:  2\n"
     ]
    },
    {
     "name": "stdout",
     "output_type": "stream",
     "text": [
      "List split into chunks: [[1, 2], [4, 5], [6, 7], [8, 9], [10, 13], [12]]\n"
     ]
    }
   ],
   "source": [
    "chunk_size = int(input(\"Enter chunk size: \"))\n",
    "chunks = [integer_list[i:i + chunk_size] for i in range(0, len(integer_list), chunk_size)]\n",
    "print(\"List split into chunks:\", chunks)"
   ]
  },
  {
   "cell_type": "markdown",
   "id": "d95da665-a623-4b20-a28f-5fa3e82aa21a",
   "metadata": {},
   "source": [
    "### 35. Find the second largest number in a list."
   ]
  },
  {
   "cell_type": "code",
   "execution_count": 41,
   "id": "4b62e016-25c7-42bc-bf11-fb52a026e2f1",
   "metadata": {},
   "outputs": [
    {
     "name": "stdout",
     "output_type": "stream",
     "text": [
      "Second largest number in the list: 12\n"
     ]
    }
   ],
   "source": [
    "sorted_unique_list = sorted(set(integer_list), reverse=True)\n",
    "second_largest = sorted_unique_list[1] if len(sorted_unique_list) > 1 else None\n",
    "print(\"Second largest number in the list:\", second_largest)"
   ]
  },
  {
   "cell_type": "markdown",
   "id": "acff912f-bd96-4f53-b2c3-26a6dc6031e0",
   "metadata": {},
   "source": [
    "### 36. Replace every element in a list with its square."
   ]
  },
  {
   "cell_type": "code",
   "execution_count": 43,
   "id": "f9ffe0c2-0058-4e49-8bff-d665708e8a91",
   "metadata": {},
   "outputs": [
    {
     "name": "stdout",
     "output_type": "stream",
     "text": [
      "List with elements replaced by their squares: [1, 4, 16, 25, 36, 49, 64, 81, 100, 169, 144]\n"
     ]
    }
   ],
   "source": [
    "squared_elements=list(map(lambda a:a*a,integer_list))\n",
    "print(\"List with elements replaced by their squares:\", squared_elements)\n"
   ]
  },
  {
   "cell_type": "markdown",
   "id": "4f57c46d-2fd6-457c-a1b0-a807b0d53711",
   "metadata": {},
   "source": [
    "### 37. Convert a list to a dictionary where list elements become keys and their indices become values."
   ]
  },
  {
   "cell_type": "code",
   "execution_count": 44,
   "id": "5b443b43-78e3-449f-a2f4-e7c347bc0ad0",
   "metadata": {},
   "outputs": [
    {
     "name": "stdout",
     "output_type": "stream",
     "text": [
      "{1: 0, 2: 1, 4: 2, 5: 3, 6: 4, 7: 5, 8: 6, 9: 7, 10: 8, 13: 9, 12: 10}\n"
     ]
    }
   ],
   "source": [
    "list_dict = {}\n",
    "for i in range(len(integer_list)):\n",
    "    list_dict[integer_list[i]]=i\n",
    "print(list_dict)"
   ]
  },
  {
   "cell_type": "markdown",
   "id": "8062b0b5-ae38-487e-833a-f4f21e029bc5",
   "metadata": {},
   "source": [
    "### 38. Shuffle the elements of a list randomly."
   ]
  },
  {
   "cell_type": "code",
   "execution_count": 45,
   "id": "783db9c9-b0ca-4c4c-b40f-b0fc4fbb9dcc",
   "metadata": {},
   "outputs": [
    {
     "name": "stdout",
     "output_type": "stream",
     "text": [
      "List after shuffling: [9, 13, 10, 7, 12, 8, 4, 5, 2, 6, 1]\n"
     ]
    }
   ],
   "source": [
    "random.shuffle(integer_list)\n",
    "print(\"List after shuffling:\", integer_list)"
   ]
  },
  {
   "cell_type": "markdown",
   "id": "05d7a06b-1075-46d3-9ec3-66e6a2faf516",
   "metadata": {},
   "source": [
    "### 39. Create a list of the first 10 factorial numbers."
   ]
  },
  {
   "cell_type": "code",
   "execution_count": 46,
   "id": "b1d8ea07-84e1-4885-be90-81120bdd15c4",
   "metadata": {},
   "outputs": [
    {
     "name": "stdout",
     "output_type": "stream",
     "text": [
      "List of the first 10 factorial numbers: [1, 1, 2, 6, 24, 120, 720, 5040, 40320, 362880]\n"
     ]
    }
   ],
   "source": [
    "import math\n",
    "\n",
    "factorial_list = [math.factorial(num) for num in range(10)]\n",
    "print(\"List of the first 10 factorial numbers:\", factorial_list)\n"
   ]
  },
  {
   "cell_type": "markdown",
   "id": "c4dd7c31-2b4b-4a6f-8360-6224bc699712",
   "metadata": {},
   "source": [
    "### 40. Check if two lists have at least one element in common."
   ]
  },
  {
   "cell_type": "code",
   "execution_count": 47,
   "id": "8fae47aa-a370-4e0f-9242-5eb06e9da687",
   "metadata": {},
   "outputs": [
    {
     "name": "stdout",
     "output_type": "stream",
     "text": [
      "Lists have at least one element in common: True\n"
     ]
    }
   ],
   "source": [
    "common_elements_check = any(element in second_list for element in integer_list)\n",
    "print(\"Lists have at least one element in common:\", common_elements_check)"
   ]
  },
  {
   "cell_type": "markdown",
   "id": "0e4a93a5-0793-4be0-9352-09ee5f832f66",
   "metadata": {},
   "source": [
    "### 41. Remove all elements from a list."
   ]
  },
  {
   "cell_type": "code",
   "execution_count": 48,
   "id": "78d01cd5-03a8-4ca2-ab22-03ee8ac7840c",
   "metadata": {},
   "outputs": [
    {
     "name": "stdout",
     "output_type": "stream",
     "text": [
      "List after removing all elements: []\n"
     ]
    }
   ],
   "source": [
    "integer_list.clear()\n",
    "print(\"List after removing all elements:\", integer_list)"
   ]
  },
  {
   "cell_type": "markdown",
   "id": "589d91cb-2c83-464f-96bf-4b85e755c533",
   "metadata": {},
   "source": [
    "### 42. Replace negative numbers in a list with 0."
   ]
  },
  {
   "cell_type": "code",
   "execution_count": 50,
   "id": "45408d08-e6e9-424f-95f8-04662ac89883",
   "metadata": {},
   "outputs": [
    {
     "name": "stdout",
     "output_type": "stream",
     "text": [
      "List with negative numbers replaced by 0: [1, 0, 16, 0, 36, 0, 0, 81, 0, 169, 144]\n"
     ]
    }
   ],
   "source": [
    "integer_list=[1, -4, 16, -25, 36, -49, -64, 81, -100, 169, 144]\n",
    "negative_replaced_list = [max(0, num) for num in integer_list]\n",
    "print(\"List with negative numbers replaced by 0:\", negative_replaced_list)"
   ]
  },
  {
   "cell_type": "markdown",
   "id": "8cb3d036-b164-4439-bf7c-4c0e16998546",
   "metadata": {},
   "source": [
    "### 43. Convert a string into a list of words."
   ]
  },
  {
   "cell_type": "code",
   "execution_count": 51,
   "id": "46021abb-b2f0-4091-bac5-1b59026bd56b",
   "metadata": {},
   "outputs": [
    {
     "name": "stdin",
     "output_type": "stream",
     "text": [
      "Enter a string:  Hello there, I am learning data science\n"
     ]
    },
    {
     "name": "stdout",
     "output_type": "stream",
     "text": [
      "List of words: ['Hello', 'there,', 'I', 'am', 'learning', 'data', 'science']\n"
     ]
    }
   ],
   "source": [
    "string_input = input(\"Enter a string: \")\n",
    "words_list = string_input.split()\n",
    "print(\"List of words:\", words_list)"
   ]
  },
  {
   "cell_type": "markdown",
   "id": "58d07db5-f293-4ce6-86f7-0bbe5b0be273",
   "metadata": {},
   "source": [
    "### 44. Convert a list of words into a string."
   ]
  },
  {
   "cell_type": "code",
   "execution_count": 52,
   "id": "3bb12555-757e-4612-93df-08ae0f2cf7f1",
   "metadata": {},
   "outputs": [
    {
     "name": "stdout",
     "output_type": "stream",
     "text": [
      "String from list of words: Hello there, I am learning data science\n"
     ]
    }
   ],
   "source": [
    "list_input = ['Hello', 'there,', 'I', 'am', 'learning', 'data', 'science']\n",
    "string_from_list = \" \".join(list_input)\n",
    "print(\"String from list of words:\", string_from_list)"
   ]
  },
  {
   "cell_type": "markdown",
   "id": "7e5c254e-34c9-4bbd-b394-0d8616342323",
   "metadata": {},
   "source": [
    "### 45. Create a list of the first `n` powers of 2."
   ]
  },
  {
   "cell_type": "code",
   "execution_count": 53,
   "id": "2981d56f-d283-40c9-891e-4a5b9856d115",
   "metadata": {},
   "outputs": [
    {
     "name": "stdin",
     "output_type": "stream",
     "text": [
      "Enter value of n:  10\n"
     ]
    },
    {
     "name": "stdout",
     "output_type": "stream",
     "text": [
      "List of the first 10 powers of 2: [1, 2, 4, 8, 16, 32, 64, 128, 256, 512]\n"
     ]
    }
   ],
   "source": [
    "n_powers_of_2 = int(input(\"Enter value of n: \"))\n",
    "powers_of_2_list = [2 ** i for i in range(n_powers_of_2)]\n",
    "print(f\"List of the first {n_powers_of_2} powers of 2:\", powers_of_2_list)"
   ]
  },
  {
   "cell_type": "markdown",
   "id": "a1dad928-6e0f-476e-873b-c2a9d378b25c",
   "metadata": {},
   "source": [
    "### 46. Find the longest string in a list of strings."
   ]
  },
  {
   "cell_type": "code",
   "execution_count": 55,
   "id": "b0db846f-19cd-4856-9d46-d77e9be779fa",
   "metadata": {},
   "outputs": [
    {
     "name": "stdout",
     "output_type": "stream",
     "text": [
      "Longest string in the list: learning\n"
     ]
    }
   ],
   "source": [
    "strings_list = ['Hello', 'there,', 'I', 'am', 'learning', 'data', 'science']\n",
    "longest_string = max(strings_list, key=len, default=None)\n",
    "print(\"Longest string in the list:\", longest_string)"
   ]
  },
  {
   "cell_type": "markdown",
   "id": "489b5b31-3c1e-4c0c-9e0f-8cd2e75a3b3b",
   "metadata": {},
   "source": [
    "### 47. Find the shortest string in a list of strings."
   ]
  },
  {
   "cell_type": "code",
   "execution_count": 56,
   "id": "482956a5-9e66-406d-b941-9025f273c24b",
   "metadata": {},
   "outputs": [
    {
     "name": "stdout",
     "output_type": "stream",
     "text": [
      "Shortest string in the list: I\n"
     ]
    }
   ],
   "source": [
    "shortest_string = min(strings_list, key=len, default=None)\n",
    "print(\"Shortest string in the list:\", shortest_string)"
   ]
  },
  {
   "cell_type": "markdown",
   "id": "45514f80-2546-475f-9f57-d22b7d7e633a",
   "metadata": {},
   "source": [
    "### 48. Create a list of the first `n` triangular numbers."
   ]
  },
  {
   "cell_type": "code",
   "execution_count": 57,
   "id": "400b3001-a28f-436e-85e1-47f20bf691f6",
   "metadata": {},
   "outputs": [
    {
     "name": "stdin",
     "output_type": "stream",
     "text": [
      "Enter value of n:  10\n"
     ]
    },
    {
     "name": "stdout",
     "output_type": "stream",
     "text": [
      "List of the first 10 triangular numbers: [0, 1, 3, 6, 10, 15, 21, 28, 36, 45]\n"
     ]
    }
   ],
   "source": [
    "n_triangular_numbers = int(input(\"Enter value of n: \"))\n",
    "triangular_numbers_list = [i * (i + 1) // 2 for i in range(n_triangular_numbers)]\n",
    "print(f\"List of the first {n_triangular_numbers} triangular numbers:\", triangular_numbers_list)"
   ]
  },
  {
   "cell_type": "markdown",
   "id": "9c4e5b71-41e3-4d0a-99aa-27d725c8b431",
   "metadata": {},
   "source": [
    "### 49. Check if a list contains another list as a subsequence."
   ]
  },
  {
   "cell_type": "code",
   "execution_count": 59,
   "id": "ccad25dc-24a2-4250-bddf-a5b639b25376",
   "metadata": {},
   "outputs": [
    {
     "name": "stdin",
     "output_type": "stream",
     "text": [
      "Enter a subsequence list (separated by space):  1 2 3 4\n"
     ]
    },
    {
     "name": "stdout",
     "output_type": "stream",
     "text": [
      "List contains the subsequence: False\n"
     ]
    }
   ],
   "source": [
    "subsequence_list = list(map(int, input(\"Enter a subsequence list (separated by space): \").split()))\n",
    "is_subsequence = all(element in integer_list for element in subsequence_list)\n",
    "print(\"List contains the subsequence:\", is_subsequence)"
   ]
  },
  {
   "cell_type": "markdown",
   "id": "2fb83be4-70c5-4892-925d-c67e9f1c3432",
   "metadata": {},
   "source": [
    "### 50. Swap two elements in a list by their indices."
   ]
  },
  {
   "cell_type": "code",
   "execution_count": 60,
   "id": "60e37bc1-6712-4dbd-8f35-8e099a1f1a79",
   "metadata": {},
   "outputs": [
    {
     "name": "stdin",
     "output_type": "stream",
     "text": [
      "Enter index of first element to swap:  5\n",
      "Enter index of second element to swap:  2\n"
     ]
    },
    {
     "name": "stdout",
     "output_type": "stream",
     "text": [
      "List after swapping elements: [1, -4, -49, -25, 36, 16, -64, 81, -100, 169, 144]\n"
     ]
    }
   ],
   "source": [
    "index1 = int(input(\"Enter index of first element to swap: \"))\n",
    "index2 = int(input(\"Enter index of second element to swap: \"))\n",
    "if 0 <= index1 < len(integer_list) and 0 <= index2 < len(integer_list):\n",
    "    integer_list[index1], integer_list[index2] = integer_list[index2], integer_list[index1]\n",
    "    print(\"List after swapping elements:\", integer_list)\n",
    "else:\n",
    "    print(\"Invalid indices. No changes made.\")"
   ]
  },
  {
   "cell_type": "markdown",
   "id": "a75247b1-6dda-483c-9214-826adf8b2095",
   "metadata": {},
   "source": [
    "## Tuple Based Practice Problem :"
   ]
  },
  {
   "cell_type": "markdown",
   "id": "ddf251c0-923b-4058-8dd1-fd2ec84c0981",
   "metadata": {},
   "source": [
    "### 1. Create a tuple with integers from 1 to 5."
   ]
  },
  {
   "cell_type": "code",
   "execution_count": 141,
   "id": "61d0bfb8-0d14-4c85-bfc8-48be17a72a84",
   "metadata": {},
   "outputs": [
    {
     "name": "stdout",
     "output_type": "stream",
     "text": [
      "Tuple with integers from 1 to 5: (1, 2, 3, 4, 5)\n"
     ]
    }
   ],
   "source": [
    "integer_tuple = tuple(range(1, 6))\n",
    "print(\"Tuple with integers from 1 to 5:\", integer_tuple)"
   ]
  },
  {
   "cell_type": "markdown",
   "id": "e97479bd-841d-4e88-be50-76a5525cdeee",
   "metadata": {},
   "source": [
    "### 2. Access the third element of a tuple."
   ]
  },
  {
   "cell_type": "code",
   "execution_count": 142,
   "id": "c10bd756-5e81-4ba4-9d89-f1ef414757f2",
   "metadata": {},
   "outputs": [
    {
     "name": "stdout",
     "output_type": "stream",
     "text": [
      "Third element of the tuple: 3\n"
     ]
    }
   ],
   "source": [
    "third_element = integer_tuple[2]\n",
    "print(\"Third element of the tuple:\", third_element)"
   ]
  },
  {
   "cell_type": "markdown",
   "id": "5450c944-404a-4d7c-9a7d-906ea4c23437",
   "metadata": {},
   "source": [
    "### 3. Find the length of a tuple without using the `len()` function."
   ]
  },
  {
   "cell_type": "code",
   "execution_count": 143,
   "id": "ca3d6ef3-8ce6-4f7d-b50a-c36ca7954a14",
   "metadata": {},
   "outputs": [
    {
     "name": "stdout",
     "output_type": "stream",
     "text": [
      "Length of the tuple: 5\n"
     ]
    }
   ],
   "source": [
    "length_of_tuple = sum(1 for _ in integer_tuple)\n",
    "print(\"Length of the tuple:\", length_of_tuple)"
   ]
  },
  {
   "cell_type": "markdown",
   "id": "d32c8a76-5866-412f-b3a3-db744bb5b4e8",
   "metadata": {},
   "source": [
    "### 4. Count the occurrences of an element in a tuple."
   ]
  },
  {
   "cell_type": "code",
   "execution_count": 144,
   "id": "14a9cffd-07cf-4d18-9eac-43f9c6b3b7f3",
   "metadata": {},
   "outputs": [
    {
     "name": "stdin",
     "output_type": "stream",
     "text": [
      "Enter element to count:  3\n"
     ]
    },
    {
     "name": "stdout",
     "output_type": "stream",
     "text": [
      "Occurrences of the element: 1\n"
     ]
    }
   ],
   "source": [
    "element_to_count = int(input(\"Enter element to count: \"))\n",
    "occurrences_count = integer_tuple.count(element_to_count)\n",
    "print(\"Occurrences of the element:\", occurrences_count)"
   ]
  },
  {
   "cell_type": "markdown",
   "id": "16b53ed5-6015-4864-96ce-de553229da98",
   "metadata": {},
   "source": [
    "### 5. Find the index of the first occurrence of an element in a tuple."
   ]
  },
  {
   "cell_type": "code",
   "execution_count": 145,
   "id": "a31260ba-44db-4ede-9e1d-e77f0963cf87",
   "metadata": {},
   "outputs": [
    {
     "name": "stdin",
     "output_type": "stream",
     "text": [
      "Enter element to find:  3\n"
     ]
    },
    {
     "name": "stdout",
     "output_type": "stream",
     "text": [
      "Index of first occurrence: 2\n"
     ]
    }
   ],
   "source": [
    "element_to_find = int(input(\"Enter element to find: \"))\n",
    "first_occurrence_index = integer_tuple.index(element_to_find) if element_to_find in integer_tuple else -1\n",
    "print(\"Index of first occurrence:\", first_occurrence_index)"
   ]
  },
  {
   "cell_type": "markdown",
   "id": "ffdf5ebe-0fce-46fe-b8da-8e6f05ecae1e",
   "metadata": {},
   "source": [
    "### 6. Check if an element exists in a tuple."
   ]
  },
  {
   "cell_type": "code",
   "execution_count": 147,
   "id": "d5765442-4d58-497a-83fa-5817a65a047b",
   "metadata": {},
   "outputs": [
    {
     "name": "stdin",
     "output_type": "stream",
     "text": [
      "Enter element to check:  4\n"
     ]
    },
    {
     "name": "stdout",
     "output_type": "stream",
     "text": [
      "Element present in the tuple: True\n"
     ]
    }
   ],
   "source": [
    "element_to_check = int(input(\"Enter element to check: \"))\n",
    "is_element_present = element_to_check in integer_tuple\n",
    "print(\"Element present in the tuple:\", is_element_present)"
   ]
  },
  {
   "cell_type": "markdown",
   "id": "873d6911-a7e6-4627-9f9d-67f16b61df3e",
   "metadata": {},
   "source": [
    "### 7. Convert a tuple to a list."
   ]
  },
  {
   "cell_type": "code",
   "execution_count": 148,
   "id": "43d0e2bb-bfa3-44eb-be48-b7ed80ee07fe",
   "metadata": {},
   "outputs": [
    {
     "name": "stdout",
     "output_type": "stream",
     "text": [
      "Tuple converted to a list: [1, 2, 3, 4, 5]\n"
     ]
    }
   ],
   "source": [
    "tuple_to_list = list(integer_tuple)\n",
    "print(\"Tuple converted to a list:\", tuple_to_list)"
   ]
  },
  {
   "cell_type": "markdown",
   "id": "0f72bcdb-75f4-4b12-bfe3-da164b01fc89",
   "metadata": {},
   "source": [
    "### 8. Convert a list to a tuple."
   ]
  },
  {
   "cell_type": "code",
   "execution_count": 149,
   "id": "a5237c03-6781-4e41-9b5f-5f5c0f9af086",
   "metadata": {},
   "outputs": [
    {
     "name": "stdout",
     "output_type": "stream",
     "text": [
      "List converted to a tuple: (1, 2, 3, 4, 5)\n"
     ]
    }
   ],
   "source": [
    "list_to_tuple = tuple(tuple_to_list)\n",
    "print(\"List converted to a tuple:\", list_to_tuple)"
   ]
  },
  {
   "cell_type": "markdown",
   "id": "2a4fa7e5-a3d9-43ef-9c04-1c9fc922ab07",
   "metadata": {},
   "source": [
    "### 9. Unpack the elements of a tuple into variables."
   ]
  },
  {
   "cell_type": "code",
   "execution_count": 150,
   "id": "84635886-f6d5-4f14-9c3d-bf2015573eb2",
   "metadata": {},
   "outputs": [
    {
     "name": "stdout",
     "output_type": "stream",
     "text": [
      "Unpacked variables: 1 2 3 4 5\n"
     ]
    }
   ],
   "source": [
    "var1, var2, var3, var4, var5 = integer_tuple\n",
    "print(\"Unpacked variables:\", var1, var2, var3, var4, var5)"
   ]
  },
  {
   "cell_type": "markdown",
   "id": "1b107791-d4ac-4b10-a624-23f3aaac2d68",
   "metadata": {},
   "source": [
    "### 10. Create a tuple of even numbers from 1 to 10."
   ]
  },
  {
   "cell_type": "code",
   "execution_count": 151,
   "id": "b846aaad-7598-4037-9e0d-cc0cf0e0c4b4",
   "metadata": {},
   "outputs": [
    {
     "name": "stdout",
     "output_type": "stream",
     "text": [
      "Tuple of even numbers from 1 to 10: (2, 4, 6, 8, 10)\n"
     ]
    }
   ],
   "source": [
    "even_numbers_tuple = tuple(range(2, 11, 2))\n",
    "print(\"Tuple of even numbers from 1 to 10:\", even_numbers_tuple)"
   ]
  },
  {
   "cell_type": "markdown",
   "id": "15a2373f-96f1-475f-844d-ec9404c5b022",
   "metadata": {},
   "source": [
    "### 11. Create a tuple of odd numbers from 1 to 10."
   ]
  },
  {
   "cell_type": "code",
   "execution_count": 152,
   "id": "d2f54db7-d38e-4f71-9a09-dc5848731f5d",
   "metadata": {},
   "outputs": [
    {
     "name": "stdout",
     "output_type": "stream",
     "text": [
      "Tuple of odd numbers from 1 to 10: (1, 3, 5, 7, 9)\n"
     ]
    }
   ],
   "source": [
    "odd_numbers_tuple = tuple(range(1, 11, 2))\n",
    "print(\"Tuple of odd numbers from 1 to 10:\", odd_numbers_tuple)"
   ]
  },
  {
   "cell_type": "markdown",
   "id": "a0691183-52ef-4435-b981-31614c7ed8cb",
   "metadata": {},
   "source": [
    "### 12. Concatenate two tuples."
   ]
  },
  {
   "cell_type": "code",
   "execution_count": 153,
   "id": "d31650e4-ff0d-486c-bce4-1eed18e99399",
   "metadata": {},
   "outputs": [
    {
     "name": "stdout",
     "output_type": "stream",
     "text": [
      "Concatenated tuple: (1, 2, 3, 4, 5, 6, 7, 78, 9, 0)\n"
     ]
    }
   ],
   "source": [
    "second_tuple = (6,7,78,9,0)\n",
    "concatenated_tuple = integer_tuple + second_tuple\n",
    "print(\"Concatenated tuple:\", concatenated_tuple)"
   ]
  },
  {
   "cell_type": "markdown",
   "id": "0107b770-d744-4175-b15d-0c52e47ad038",
   "metadata": {},
   "source": [
    "### 13. Repeat a tuple three times."
   ]
  },
  {
   "cell_type": "code",
   "execution_count": 154,
   "id": "b66f150a-8963-4e50-9cf2-7c3030e276d8",
   "metadata": {},
   "outputs": [
    {
     "name": "stdout",
     "output_type": "stream",
     "text": [
      "Repeated tuple three times: (1, 2, 3, 4, 5, 1, 2, 3, 4, 5, 1, 2, 3, 4, 5)\n"
     ]
    }
   ],
   "source": [
    "repeated_tuple = integer_tuple * 3\n",
    "print(\"Repeated tuple three times:\", repeated_tuple)"
   ]
  },
  {
   "cell_type": "markdown",
   "id": "3a61264e-6e69-4743-bc7a-60277487263d",
   "metadata": {},
   "source": [
    "### 14. Check if a tuple is empty."
   ]
  },
  {
   "cell_type": "code",
   "execution_count": 155,
   "id": "196d9992-58fd-40b8-992b-4bd495e28697",
   "metadata": {},
   "outputs": [
    {
     "name": "stdout",
     "output_type": "stream",
     "text": [
      "Tuple is empty: False\n"
     ]
    }
   ],
   "source": [
    "is_empty = not bool(integer_tuple)\n",
    "print(\"Tuple is empty:\", is_empty)"
   ]
  },
  {
   "cell_type": "markdown",
   "id": "f9b21ddd-b8ba-40c8-b360-ccf79bebf497",
   "metadata": {},
   "source": [
    "### 15. Create a nested tuple."
   ]
  },
  {
   "cell_type": "code",
   "execution_count": 156,
   "id": "daf7663c-e8fd-47bb-8285-57c178c94546",
   "metadata": {},
   "outputs": [
    {
     "name": "stdout",
     "output_type": "stream",
     "text": [
      "Nested tuple: ((1, 2, 3, 4, 5), (6, 7, 78, 9, 0))\n"
     ]
    }
   ],
   "source": [
    "nested_tuple = (integer_tuple, second_tuple)\n",
    "print(\"Nested tuple:\", nested_tuple)"
   ]
  },
  {
   "cell_type": "markdown",
   "id": "d2c8f3db-8edb-47a0-9140-58a576c3730b",
   "metadata": {},
   "source": [
    "### 16. Access the first element of a nested tuple."
   ]
  },
  {
   "cell_type": "code",
   "execution_count": 157,
   "id": "71c27441-7469-42fb-aa66-800b4b0f6fdf",
   "metadata": {},
   "outputs": [
    {
     "name": "stdout",
     "output_type": "stream",
     "text": [
      "First element of the nested tuple: 1\n"
     ]
    }
   ],
   "source": [
    "first_element_nested = nested_tuple[0][0]\n",
    "print(\"First element of the nested tuple:\", first_element_nested)"
   ]
  },
  {
   "cell_type": "markdown",
   "id": "cc59dc81-1579-4efe-bfca-97bec188d3ec",
   "metadata": {},
   "source": [
    "### 17. Create a tuple with a single element."
   ]
  },
  {
   "cell_type": "code",
   "execution_count": 158,
   "id": "7ca9110e-24f9-4000-a493-995d47100a5f",
   "metadata": {},
   "outputs": [
    {
     "name": "stdout",
     "output_type": "stream",
     "text": [
      "Tuple with a single element: (42,)\n"
     ]
    }
   ],
   "source": [
    "single_element_tuple = (42,)\n",
    "print(\"Tuple with a single element:\", single_element_tuple)"
   ]
  },
  {
   "cell_type": "markdown",
   "id": "0b7a3e95-3ab1-4c83-9341-2618a0c60a68",
   "metadata": {},
   "source": [
    "### 18. Compare two tuples."
   ]
  },
  {
   "cell_type": "code",
   "execution_count": 169,
   "id": "e337af5a-6458-402b-ba5b-4a3c749f29fc",
   "metadata": {},
   "outputs": [
    {
     "name": "stdin",
     "output_type": "stream",
     "text": [
      "Enter tuple for comparison (separated by space):  2 3 4 5 3 8 9 0\n"
     ]
    },
    {
     "name": "stdout",
     "output_type": "stream",
     "text": [
      "Tuples are identical: False\n"
     ]
    }
   ],
   "source": [
    "comparison_tuple = tuple(map(int, input(\"Enter tuple for comparison (separated by space): \").split()))\n",
    "are_tuples_identical = integer_tuple == comparison_tuple\n",
    "print(\"Tuples are identical:\", are_tuples_identical)"
   ]
  },
  {
   "cell_type": "markdown",
   "id": "e761e7b8-f769-45bf-b1aa-91ab0f9cfbc7",
   "metadata": {},
   "source": [
    "### 19. Delete a tuple."
   ]
  },
  {
   "cell_type": "code",
   "execution_count": 170,
   "id": "b57cd5c4-d05a-4e17-97b2-70fde75c94e1",
   "metadata": {},
   "outputs": [
    {
     "name": "stdout",
     "output_type": "stream",
     "text": [
      "Tuple deleted: (2, 3, 4, 5, 3, 8, 9, 0)\n"
     ]
    }
   ],
   "source": [
    "del_tuple =comparison_tuple  # Tuple cannot be deleted, converting to list\n",
    "del comparison_tuple\n",
    "print(\"Tuple deleted:\", del_tuple)  # Note: tuple_to_list still exists"
   ]
  },
  {
   "cell_type": "markdown",
   "id": "8ef0f4f4-cd80-4208-9a38-69bbf6a6c60f",
   "metadata": {},
   "source": [
    "### 20. Slice a tuple."
   ]
  },
  {
   "cell_type": "code",
   "execution_count": 172,
   "id": "5b745a90-a52f-47b9-9bae-71f770769043",
   "metadata": {},
   "outputs": [
    {
     "name": "stdin",
     "output_type": "stream",
     "text": [
      "Enter start index for slicing:  2\n",
      "Enter end index for slicing:  3\n"
     ]
    },
    {
     "name": "stdout",
     "output_type": "stream",
     "text": [
      "Sliced tuple: (3,)\n"
     ]
    }
   ],
   "source": [
    "start_index = int(input(\"Enter start index for slicing: \"))\n",
    "end_index = int(input(\"Enter end index for slicing: \"))\n",
    "sliced_tuple = integer_tuple[start_index:end_index]\n",
    "print(\"Sliced tuple:\", sliced_tuple)"
   ]
  },
  {
   "cell_type": "markdown",
   "id": "40250714-dae6-4b2a-bb04-8a3105354062",
   "metadata": {},
   "source": [
    "### 21. Find the maximum value in a tuple."
   ]
  },
  {
   "cell_type": "code",
   "execution_count": 173,
   "id": "0a806eac-78b4-4402-a85b-293d5ff5c8d5",
   "metadata": {},
   "outputs": [
    {
     "name": "stdout",
     "output_type": "stream",
     "text": [
      "Maximum value in the tuple: 5\n"
     ]
    }
   ],
   "source": [
    "max_value_tuple = max(integer_tuple)\n",
    "print(\"Maximum value in the tuple:\", max_value_tuple)"
   ]
  },
  {
   "cell_type": "markdown",
   "id": "c20a1c7b-9f92-46fe-b050-edaa62f4c57e",
   "metadata": {},
   "source": [
    "### 22. Find the minimum value in a tuple."
   ]
  },
  {
   "cell_type": "code",
   "execution_count": 174,
   "id": "90e38638-df17-4cfe-b848-09fda7509a12",
   "metadata": {},
   "outputs": [
    {
     "name": "stdout",
     "output_type": "stream",
     "text": [
      "Minimum value in the tuple: 1\n"
     ]
    }
   ],
   "source": [
    "min_value_tuple = min(integer_tuple)\n",
    "print(\"Minimum value in the tuple:\", min_value_tuple)"
   ]
  },
  {
   "cell_type": "markdown",
   "id": "88aeffc7-980d-4af2-aec4-d58cad193966",
   "metadata": {},
   "source": [
    "### 23. Convert a string to a tuple of characters."
   ]
  },
  {
   "cell_type": "code",
   "execution_count": 175,
   "id": "56c9748f-62de-4f3e-b686-beb50ec2dcbe",
   "metadata": {},
   "outputs": [
    {
     "name": "stdin",
     "output_type": "stream",
     "text": [
      "Enter a string:  AMAN KUMAR\n"
     ]
    },
    {
     "name": "stdout",
     "output_type": "stream",
     "text": [
      "Tuple of characters: ('A', 'M', 'A', 'N', ' ', 'K', 'U', 'M', 'A', 'R')\n"
     ]
    }
   ],
   "source": [
    "string_input = input(\"Enter a string: \")\n",
    "char_tuple = tuple(string_input)\n",
    "print(\"Tuple of characters:\", char_tuple)"
   ]
  },
  {
   "cell_type": "markdown",
   "id": "3979ce26-6e03-4eab-9d96-a33a1fdc3f82",
   "metadata": {},
   "source": [
    "### 24. Convert a tuple of characters to a string."
   ]
  },
  {
   "cell_type": "code",
   "execution_count": 176,
   "id": "836796ed-fad0-43b9-8af5-88868989a174",
   "metadata": {},
   "outputs": [
    {
     "name": "stdout",
     "output_type": "stream",
     "text": [
      "String from tuple of characters: AMAN KUMAR\n"
     ]
    }
   ],
   "source": [
    "string_from_tuple = \"\".join(char_tuple)\n",
    "print(\"String from tuple of characters:\", string_from_tuple)"
   ]
  },
  {
   "cell_type": "markdown",
   "id": "74adc29d-f0b3-4274-9939-cca0f5731dc5",
   "metadata": {},
   "source": [
    "### 25. Create a tuple from multiple data types."
   ]
  },
  {
   "cell_type": "code",
   "execution_count": 177,
   "id": "cc551615-87ac-466e-b8e3-a2a9da44fb99",
   "metadata": {},
   "outputs": [
    {
     "name": "stdout",
     "output_type": "stream",
     "text": [
      "Tuple with multiple data types: (1, 'hello', 3.14, True)\n"
     ]
    }
   ],
   "source": [
    "mixed_tuple = (1, \"hello\", 3.14, True)\n",
    "print(\"Tuple with multiple data types:\", mixed_tuple)"
   ]
  },
  {
   "cell_type": "markdown",
   "id": "8ca82b04-dc05-4b17-b362-457bd39395f0",
   "metadata": {},
   "source": [
    "### 26. Check if two tuples are identical."
   ]
  },
  {
   "cell_type": "code",
   "execution_count": 180,
   "id": "fb9e4bf7-3ef2-4468-aa60-7daff5e65af7",
   "metadata": {},
   "outputs": [
    {
     "name": "stdout",
     "output_type": "stream",
     "text": [
      "Tuples are identical: True\n"
     ]
    }
   ],
   "source": [
    "second_comparison_tuple = (1, \"hello\", 3.14, True)\n",
    "are_tuples_identical_mixed = mixed_tuple == second_comparison_tuple\n",
    "print(\"Tuples are identical:\", are_tuples_identical_mixed)"
   ]
  },
  {
   "cell_type": "markdown",
   "id": "6a9054de-ee98-44fb-a0c3-8aaba70824ef",
   "metadata": {},
   "source": [
    "### 27. Sort the elements of a tuple."
   ]
  },
  {
   "cell_type": "code",
   "execution_count": 181,
   "id": "ad18db06-8037-49a7-bffa-6f8a6ed19df8",
   "metadata": {},
   "outputs": [
    {
     "name": "stdout",
     "output_type": "stream",
     "text": [
      "Sorted tuple: (1, 2, 3, 4, 5)\n"
     ]
    }
   ],
   "source": [
    "sorted_tuple = tuple(sorted(integer_tuple))\n",
    "print(\"Sorted tuple:\", sorted_tuple)"
   ]
  },
  {
   "cell_type": "markdown",
   "id": "badcc366-6c74-4e9f-981d-4f7bfe96ebf3",
   "metadata": {},
   "source": [
    "### 28. Convert a tuple of integers to a tuple of strings."
   ]
  },
  {
   "cell_type": "code",
   "execution_count": 182,
   "id": "25a50b3a-bbb3-4a3d-8720-4b2b6f55da50",
   "metadata": {},
   "outputs": [
    {
     "name": "stdout",
     "output_type": "stream",
     "text": [
      "Tuple of integers converted to strings: ('1', '2', '3', '4', '5')\n"
     ]
    }
   ],
   "source": [
    "str_tuple = tuple(map(str, integer_tuple))\n",
    "print(\"Tuple of integers converted to strings:\", str_tuple)"
   ]
  },
  {
   "cell_type": "markdown",
   "id": "fbe89def-2a35-4bb6-9a1f-ab7a7c6200d6",
   "metadata": {},
   "source": [
    "### 29. Convert a tuple of strings to a tuple of integers."
   ]
  },
  {
   "cell_type": "code",
   "execution_count": 183,
   "id": "67326265-6105-48c0-b671-be21bee05a2b",
   "metadata": {},
   "outputs": [
    {
     "name": "stdout",
     "output_type": "stream",
     "text": [
      "Tuple of strings converted to integers: (1, 2, 3, 4, 5)\n"
     ]
    }
   ],
   "source": [
    "int_tuple = tuple(map(int, str_tuple))\n",
    "print(\"Tuple of strings converted to integers:\", int_tuple)"
   ]
  },
  {
   "cell_type": "markdown",
   "id": "837f255c-0ce0-4a24-a932-b943ef6975f0",
   "metadata": {},
   "source": [
    "### 30. Merge two tuples."
   ]
  },
  {
   "cell_type": "code",
   "execution_count": 184,
   "id": "dd62164b-da13-4645-ae65-f818303c84e8",
   "metadata": {},
   "outputs": [
    {
     "name": "stdout",
     "output_type": "stream",
     "text": [
      "Merged tuple: (1, 2, 3, 4, 5, 6, 7, 78, 9, 0)\n"
     ]
    }
   ],
   "source": [
    "merged_tuple = integer_tuple + second_tuple\n",
    "print(\"Merged tuple:\", merged_tuple)"
   ]
  },
  {
   "cell_type": "markdown",
   "id": "872f87dc-cf35-4082-899e-a1214fecbb44",
   "metadata": {},
   "source": [
    "### 31. Flatten a nested tuple."
   ]
  },
  {
   "cell_type": "code",
   "execution_count": 187,
   "id": "2f875f15-4caf-47e3-b141-38f2f2a08e97",
   "metadata": {},
   "outputs": [
    {
     "name": "stdout",
     "output_type": "stream",
     "text": [
      "Flattened tuple: (1, 2, 3, 4, 5, 6, 7, 8, 9)\n"
     ]
    }
   ],
   "source": [
    "nested_tuple=((1,2,3),(4,5,6),(7,8,9))\n",
    "flattened_tuple = tuple(item for sublist in nested_tuple for item in sublist)\n",
    "print(\"Flattened tuple:\", flattened_tuple)"
   ]
  },
  {
   "cell_type": "markdown",
   "id": "564ec313-94fc-49aa-b3d7-1630f734a0fc",
   "metadata": {},
   "source": [
    "### 32. Create a tuple of the first 5 prime numbers."
   ]
  },
  {
   "cell_type": "code",
   "execution_count": 200,
   "id": "e16994fa-735a-420a-9f47-db777b0a2e25",
   "metadata": {
    "tags": []
   },
   "outputs": [
    {
     "name": "stdout",
     "output_type": "stream",
     "text": [
      "Tuple of the first 5 prime numbers: (2, 3, 5, 7, 11)\n"
     ]
    }
   ],
   "source": [
    "def is_prime(num):\n",
    "    if num < 2:\n",
    "        return False\n",
    "    for i in range(2, int(num**0.5) + 1):\n",
    "        if num % i == 0:\n",
    "            return False\n",
    "    return True\n",
    "\n",
    "n =5\n",
    "prime_numbers_tuple = tuple(num for num in range(2, 100) if is_prime(num))[:n]\n",
    "\n",
    "print(f\"Tuple of the first {n} prime numbers:\", prime_numbers_tuple)"
   ]
  },
  {
   "cell_type": "markdown",
   "id": "009a1645-71fd-4e69-9305-857b88c68075",
   "metadata": {},
   "source": [
    "### 33. Check if a tuple is a palindrome."
   ]
  },
  {
   "cell_type": "code",
   "execution_count": 189,
   "id": "876abd91-de6d-4217-b630-387f3d1e82af",
   "metadata": {},
   "outputs": [
    {
     "name": "stdout",
     "output_type": "stream",
     "text": [
      "Tuple is a palindrome: False\n"
     ]
    }
   ],
   "source": [
    "is_palindrome = integer_tuple == integer_tuple[::-1]\n",
    "print(\"Tuple is a palindrome:\", is_palindrome)"
   ]
  },
  {
   "cell_type": "markdown",
   "id": "0547ebd0-132d-483e-9c32-e9b84b1c3478",
   "metadata": {},
   "source": [
    "### 34. Create a tuple of squares of numbers from 1 to 5."
   ]
  },
  {
   "cell_type": "code",
   "execution_count": 190,
   "id": "def68c25-d9c6-4183-864f-5061ef517942",
   "metadata": {},
   "outputs": [
    {
     "name": "stdout",
     "output_type": "stream",
     "text": [
      "Tuple of squares of numbers from 1 to 5: (1, 4, 9, 16, 25)\n"
     ]
    }
   ],
   "source": [
    "squares_tuple = tuple(num**2 for num in range(1, 6))\n",
    "print(\"Tuple of squares of numbers from 1 to 5:\", squares_tuple)"
   ]
  },
  {
   "cell_type": "markdown",
   "id": "6f25d8c3-6d5c-4537-baf8-d91eeafad059",
   "metadata": {},
   "source": [
    "### 35. Filter out all even numbers from a tuple."
   ]
  },
  {
   "cell_type": "code",
   "execution_count": 191,
   "id": "84e4bb0c-10a1-4be1-bfbe-a4e2c9f9514e",
   "metadata": {},
   "outputs": [
    {
     "name": "stdout",
     "output_type": "stream",
     "text": [
      "Tuple with even numbers removed: (1, 3, 5)\n"
     ]
    }
   ],
   "source": [
    "filtered_odd_tuple = tuple(num for num in integer_tuple if num % 2 != 0)\n",
    "print(\"Tuple with even numbers removed:\", filtered_odd_tuple)"
   ]
  },
  {
   "cell_type": "markdown",
   "id": "449872eb-322d-4fb8-9055-d1a7a302a83b",
   "metadata": {},
   "source": [
    "### 36. Multiply all elements in a tuple by 2."
   ]
  },
  {
   "cell_type": "code",
   "execution_count": 192,
   "id": "d7ac16f6-2d3a-488b-9309-2b81b67a6da8",
   "metadata": {},
   "outputs": [
    {
     "name": "stdout",
     "output_type": "stream",
     "text": [
      "Tuple with elements multiplied by 2: (2, 4, 6, 8, 10)\n"
     ]
    }
   ],
   "source": [
    "doubled_tuple = tuple(num * 2 for num in integer_tuple)\n",
    "print(\"Tuple with elements multiplied by 2:\", doubled_tuple)"
   ]
  },
  {
   "cell_type": "markdown",
   "id": "af335164-91d3-4139-974f-cda068d36d5d",
   "metadata": {},
   "source": [
    "### 37. Create a tuple of random numbers."
   ]
  },
  {
   "cell_type": "code",
   "execution_count": 193,
   "id": "9a434117-8c8c-4bc7-9ca7-4c6384c01393",
   "metadata": {},
   "outputs": [
    {
     "name": "stdout",
     "output_type": "stream",
     "text": [
      "Tuple of random numbers: (95, 97, 5, 55, 9)\n"
     ]
    }
   ],
   "source": [
    "import random\n",
    "\n",
    "random_tuple = tuple(random.randint(1, 100) for _ in range(5))\n",
    "print(\"Tuple of random numbers:\", random_tuple)"
   ]
  },
  {
   "cell_type": "markdown",
   "id": "4d4af3fa-bec4-4a7c-8c1b-16527ff96752",
   "metadata": {},
   "source": [
    "### 38. Check if a tuple is sorted."
   ]
  },
  {
   "cell_type": "code",
   "execution_count": 194,
   "id": "e9e98dff-2f3b-48f4-a37e-a0a862bcb641",
   "metadata": {},
   "outputs": [
    {
     "name": "stdout",
     "output_type": "stream",
     "text": [
      "Tuple is sorted: True\n"
     ]
    }
   ],
   "source": [
    "is_sorted_tuple = all(integer_tuple[i] <= integer_tuple[i + 1] for i in range(len(integer_tuple) - 1))\n",
    "print(\"Tuple is sorted:\", is_sorted_tuple)"
   ]
  },
  {
   "cell_type": "markdown",
   "id": "9d15527b-f2ed-43b4-bc7e-e2510e0b6622",
   "metadata": {},
   "source": [
    "### 39. Rotate a tuple to the left by `n` positions."
   ]
  },
  {
   "cell_type": "code",
   "execution_count": 195,
   "id": "027e91d4-9437-4e9b-b4c3-ed4b814a3e59",
   "metadata": {},
   "outputs": [
    {
     "name": "stdin",
     "output_type": "stream",
     "text": [
      "Enter number of positions to rotate left:  3\n"
     ]
    },
    {
     "name": "stdout",
     "output_type": "stream",
     "text": [
      "Tuple after rotating left: (4, 5, 1, 2, 3)\n"
     ]
    }
   ],
   "source": [
    "n_positions_left = int(input(\"Enter number of positions to rotate left: \"))\n",
    "rotated_left_tuple = integer_tuple[n_positions_left:] + integer_tuple[:n_positions_left]\n",
    "print(\"Tuple after rotating left:\", rotated_left_tuple)"
   ]
  },
  {
   "cell_type": "markdown",
   "id": "e1398e29-d5d3-453b-8ede-74627a94631b",
   "metadata": {},
   "source": [
    "### 40. Rotate a tuple to the right by `n` positions."
   ]
  },
  {
   "cell_type": "code",
   "execution_count": 197,
   "id": "a3e56092-a078-4267-b212-a87620b742a1",
   "metadata": {},
   "outputs": [
    {
     "name": "stdin",
     "output_type": "stream",
     "text": [
      "Enter number of positions to rotate right:  1\n"
     ]
    },
    {
     "name": "stdout",
     "output_type": "stream",
     "text": [
      "Tuple after rotating right: (5, 1, 2, 3, 4)\n"
     ]
    }
   ],
   "source": [
    "n_positions_right = int(input(\"Enter number of positions to rotate right: \"))\n",
    "rotated_right_tuple = integer_tuple[-n_positions_right:] + integer_tuple[:-n_positions_right]\n",
    "print(\"Tuple after rotating right:\", rotated_right_tuple)"
   ]
  },
  {
   "cell_type": "markdown",
   "id": "2f1b0e85-8f8d-4a55-8d1b-c3b5c5c27121",
   "metadata": {},
   "source": [
    "### 41. Create a tuple of the first 5 Fibonacci numbers."
   ]
  },
  {
   "cell_type": "code",
   "execution_count": 199,
   "id": "91aa6918-feb9-4064-8203-97ce12313bea",
   "metadata": {},
   "outputs": [
    {
     "name": "stdout",
     "output_type": "stream",
     "text": [
      "Tuple of the first 5 Fibonacci numbers: (0, 1, 1, 2, 3)\n"
     ]
    }
   ],
   "source": [
    "def generate_fibonacci(n):\n",
    "    fibonacci_numbers = [0, 1]\n",
    "    while len(fibonacci_numbers) < n:\n",
    "        next_fibonacci = fibonacci_numbers[-1] + fibonacci_numbers[-2]\n",
    "        fibonacci_numbers.append(next_fibonacci)\n",
    "    return tuple(fibonacci_numbers[:n])\n",
    "n = 5\n",
    "fibonacci_tuple = generate_fibonacci(n)\n",
    "print(f\"Tuple of the first {n} Fibonacci numbers:\", fibonacci_tuple)"
   ]
  },
  {
   "cell_type": "markdown",
   "id": "fa006edd-f921-4912-ab33-fa92a33c0b46",
   "metadata": {},
   "source": [
    "### 42. Create a tuple from user input."
   ]
  },
  {
   "cell_type": "code",
   "execution_count": 201,
   "id": "4f3ac9a2-d52d-4db9-8b02-6d7b823cafa2",
   "metadata": {},
   "outputs": [
    {
     "name": "stdin",
     "output_type": "stream",
     "text": [
      "Enter tuple elements (separated by space):  3 56 78 0 9 45 12 3\n"
     ]
    },
    {
     "name": "stdout",
     "output_type": "stream",
     "text": [
      "Tuple from user input: (3, 56, 78, 0, 9, 45, 12, 3)\n"
     ]
    }
   ],
   "source": [
    "user_input_tuple = tuple(map(int, input(\"Enter tuple elements (separated by space): \").split()))\n",
    "print(\"Tuple from user input:\", user_input_tuple)"
   ]
  },
  {
   "cell_type": "markdown",
   "id": "86d2fea0-d84a-4589-ac4d-e77671c8b926",
   "metadata": {},
   "source": [
    "### 43. Swap two elements in a tuple."
   ]
  },
  {
   "cell_type": "code",
   "execution_count": 204,
   "id": "cde42b9d-5d7c-44a4-b1ba-bd10d2c07c93",
   "metadata": {},
   "outputs": [
    {
     "name": "stdin",
     "output_type": "stream",
     "text": [
      "Enter index of first element to swap:  1\n",
      "Enter index of second element to swap:  4\n"
     ]
    },
    {
     "name": "stdout",
     "output_type": "stream",
     "text": [
      "Tuple after swapping elements: (1, 5, 3, 4, 2)\n"
     ]
    }
   ],
   "source": [
    "index1_swap = int(input(\"Enter index of first element to swap: \"))\n",
    "index2_swap = int(input(\"Enter index of second element to swap: \"))\n",
    "if 0 <= index1_swap < len(integer_tuple) and 0 <= index2_swap < len(integer_tuple):\n",
    "    swap_list = list(integer_tuple)\n",
    "    swap_list[index1_swap], swap_list[index2_swap] = swap_list[index2_swap], swap_list[index1_swap]\n",
    "    swapped_tuple = tuple(swap_list)\n",
    "    print(\"Tuple after swapping elements:\", swapped_tuple)\n",
    "else:\n",
    "    print(\"Invalid indices. No changes made.\")"
   ]
  },
  {
   "cell_type": "markdown",
   "id": "29eef35e-21b1-4f9d-89ca-b0d4131bbef3",
   "metadata": {},
   "source": [
    "### 44. Reverse the elements of a tuple."
   ]
  },
  {
   "cell_type": "code",
   "execution_count": 205,
   "id": "a064e65e-d796-4808-898c-9d9a55dbbbf1",
   "metadata": {},
   "outputs": [
    {
     "name": "stdout",
     "output_type": "stream",
     "text": [
      "Tuple after reversing elements: (5, 4, 3, 2, 1)\n"
     ]
    }
   ],
   "source": [
    "reversed_tuple = integer_tuple[::-1]\n",
    "print(\"Tuple after reversing elements:\", reversed_tuple)"
   ]
  },
  {
   "cell_type": "markdown",
   "id": "93258d67-3449-475a-8540-34e261d46488",
   "metadata": {},
   "source": [
    "### 45. Create a tuple of the first `n` powers of 2."
   ]
  },
  {
   "cell_type": "code",
   "execution_count": 207,
   "id": "306f45cb-8820-48b9-b3f8-10a26dceb146",
   "metadata": {},
   "outputs": [
    {
     "name": "stdin",
     "output_type": "stream",
     "text": [
      "Enter value of n for powers of 2:  10\n"
     ]
    },
    {
     "name": "stdout",
     "output_type": "stream",
     "text": [
      "Tuple of the first 10 powers of 2: (1, 2, 4, 8, 16, 32, 64, 128, 256, 512)\n"
     ]
    }
   ],
   "source": [
    "n_powers_of_2_tuple = tuple(2**i for i in range(int(input(\"Enter value of n for powers of 2: \"))))\n",
    "print(f\"Tuple of the first {len(n_powers_of_2_tuple)} powers of 2:\", n_powers_of_2_tuple)"
   ]
  },
  {
   "cell_type": "markdown",
   "id": "2cd014c6-da82-47c6-b583-b70653786a3f",
   "metadata": {},
   "source": [
    "### 46. Find the longest string in a tuple of strings."
   ]
  },
  {
   "cell_type": "code",
   "execution_count": 208,
   "id": "a040610b-8948-421d-b656-44682be1bfd3",
   "metadata": {},
   "outputs": [
    {
     "name": "stdin",
     "output_type": "stream",
     "text": [
      "Enter a tuple of strings (separated by space):  Aman and Rahul are learning DATA STRUCTURES\n"
     ]
    },
    {
     "name": "stdout",
     "output_type": "stream",
     "text": [
      "Longest string in the tuple: STRUCTURES\n"
     ]
    }
   ],
   "source": [
    "strings_tuple = tuple(input(\"Enter a tuple of strings (separated by space): \").split())\n",
    "longest_string_tuple = max(strings_tuple, key=len, default=None)\n",
    "print(\"Longest string in the tuple:\", longest_string_tuple)"
   ]
  },
  {
   "cell_type": "markdown",
   "id": "fe5ee340-cbdf-4ec7-91d6-2d27eccc0388",
   "metadata": {},
   "source": [
    "### 47. Find the shortest string in a tuple of strings."
   ]
  },
  {
   "cell_type": "code",
   "execution_count": 209,
   "id": "89d8b005-65e2-4f23-86ee-218d7fbd7faf",
   "metadata": {},
   "outputs": [
    {
     "name": "stdin",
     "output_type": "stream",
     "text": [
      "Enter a tuple of strings (separated by space):  Aman and Rahul are learning DATA STRUCTURES\n"
     ]
    },
    {
     "name": "stdout",
     "output_type": "stream",
     "text": [
      "Longest string in the tuple: and\n"
     ]
    }
   ],
   "source": [
    "strings_tuple = tuple(input(\"Enter a tuple of strings (separated by space): \").split())\n",
    "longest_string_tuple = min(strings_tuple, key=len, default=None)\n",
    "print(\"Longest string in the tuple:\", longest_string_tuple)"
   ]
  },
  {
   "cell_type": "markdown",
   "id": "4042ab4c-5f34-47a4-b22e-a8d1096f9a03",
   "metadata": {},
   "source": [
    "### 48. Create a tuple of the first `n` triangular numbers."
   ]
  },
  {
   "cell_type": "code",
   "execution_count": 210,
   "id": "17429e37-0c12-48ac-9033-6046eedf1ad4",
   "metadata": {},
   "outputs": [
    {
     "name": "stdin",
     "output_type": "stream",
     "text": [
      "Enter value of n for triangular numbers:  10\n"
     ]
    },
    {
     "name": "stdout",
     "output_type": "stream",
     "text": [
      "Tuple of the first 10 triangular numbers: (0, 1, 3, 6, 10, 15, 21, 28, 36, 45)\n"
     ]
    }
   ],
   "source": [
    "n_triangular_numbers_tuple = tuple(i * (i + 1) // 2 for i in range(int(input(\"Enter value of n for triangular numbers: \"))))\n",
    "print(f\"Tuple of the first {len(n_triangular_numbers_tuple)} triangular numbers:\", n_triangular_numbers_tuple)"
   ]
  },
  {
   "cell_type": "markdown",
   "id": "c9d7894b-b55f-41b3-b837-a63e538263d3",
   "metadata": {},
   "source": [
    "### 49. Check if a tuple contains another tuple as a subsequence."
   ]
  },
  {
   "cell_type": "code",
   "execution_count": 211,
   "id": "27b0bc89-44f8-4110-9b16-fdb6f4baaa6c",
   "metadata": {},
   "outputs": [
    {
     "name": "stdin",
     "output_type": "stream",
     "text": [
      "Enter a subsequence tuple (separated by space):  1 2 3 4 5 6\n"
     ]
    },
    {
     "name": "stdout",
     "output_type": "stream",
     "text": [
      "Tuple contains the subsequence: False\n"
     ]
    }
   ],
   "source": [
    "subsequence_tuple = tuple(map(int, input(\"Enter a subsequence tuple (separated by space): \").split()))\n",
    "is_subsequence_tuple = all(element in integer_tuple for element in subsequence_tuple)\n",
    "print(\"Tuple contains the subsequence:\", is_subsequence_tuple)"
   ]
  },
  {
   "cell_type": "markdown",
   "id": "b88a21be-8433-4aa6-9508-7d4c092e6ea5",
   "metadata": {},
   "source": [
    "### 50. Create a tuple of alternating 1s and 0s of length `n`."
   ]
  },
  {
   "cell_type": "code",
   "execution_count": 212,
   "id": "68dcf2d9-190b-460d-9e3a-253943041f21",
   "metadata": {},
   "outputs": [
    {
     "name": "stdin",
     "output_type": "stream",
     "text": [
      "Enter length of alternating 1s and 0s tuple:  11\n"
     ]
    },
    {
     "name": "stdout",
     "output_type": "stream",
     "text": [
      "Tuple of alternating 1s and 0s of length 11: (1, 0, 1, 0, 1, 0, 1, 0, 1, 0, 1)\n"
     ]
    }
   ],
   "source": [
    "n_alternating_tuple = int(input(\"Enter length of alternating 1s and 0s tuple: \"))\n",
    "alternating_tuple = tuple(1 if i % 2 == 0 else 0 for i in range(n_alternating_tuple))\n",
    "print(f\"Tuple of alternating 1s and 0s of length {n_alternating_tuple}:\", alternating_tuple)"
   ]
  },
  {
   "cell_type": "markdown",
   "id": "563e90f2-08b6-48c9-8d8a-fc4d6ca21815",
   "metadata": {},
   "source": [
    "## Set Based Practice Problem :"
   ]
  },
  {
   "cell_type": "markdown",
   "id": "6da608ee-0604-4312-9517-d8edd6196c73",
   "metadata": {},
   "source": [
    "### 1. Create a set with integers from 1 to 5."
   ]
  },
  {
   "cell_type": "code",
   "execution_count": 265,
   "id": "2281a1af-09f8-4ce9-9ac1-c448e4a8d284",
   "metadata": {},
   "outputs": [
    {
     "name": "stdout",
     "output_type": "stream",
     "text": [
      "Set with integers from 1 to 5: {1, 2, 3, 4, 5}\n"
     ]
    }
   ],
   "source": [
    "set_integers = set(i for i in range(1,6))\n",
    "print(\"Set with integers from 1 to 5:\", set_integers)"
   ]
  },
  {
   "cell_type": "markdown",
   "id": "9178db55-1d89-4512-a362-e02307d84c77",
   "metadata": {},
   "source": [
    "### 2. Add an element to a set."
   ]
  },
  {
   "cell_type": "code",
   "execution_count": 266,
   "id": "ea9d8048-d0a7-45c6-a843-3b94a881281d",
   "metadata": {},
   "outputs": [
    {
     "name": "stdin",
     "output_type": "stream",
     "text": [
      "Enter element to add to the set:  10\n"
     ]
    },
    {
     "name": "stdout",
     "output_type": "stream",
     "text": [
      "Set after adding element: {1, 2, 3, 4, 5, 10}\n"
     ]
    }
   ],
   "source": [
    "element_to_add = int(input(\"Enter element to add to the set: \"))\n",
    "set_integers.add(element_to_add)\n",
    "print(\"Set after adding element:\", set_integers)"
   ]
  },
  {
   "cell_type": "markdown",
   "id": "dde0a368-2129-4e0a-945a-dd3d07f1467e",
   "metadata": {},
   "source": [
    "### 3. Remove an element from a set."
   ]
  },
  {
   "cell_type": "code",
   "execution_count": 267,
   "id": "fb82585b-fe20-46b3-bdd4-395b354edaa2",
   "metadata": {},
   "outputs": [
    {
     "name": "stdin",
     "output_type": "stream",
     "text": [
      "Enter element to remove from the set:  3\n"
     ]
    },
    {
     "name": "stdout",
     "output_type": "stream",
     "text": [
      "Set after removing element: {1, 2, 4, 5, 10}\n"
     ]
    }
   ],
   "source": [
    "element_to_remove = int(input(\"Enter element to remove from the set: \"))\n",
    "set_integers.discard(element_to_remove)\n",
    "print(\"Set after removing element:\", set_integers)"
   ]
  },
  {
   "cell_type": "markdown",
   "id": "48c01d83-bb0c-4d64-98ef-1f8b0b8eabd4",
   "metadata": {},
   "source": [
    "### 4. Check if an element exists in a set."
   ]
  },
  {
   "cell_type": "code",
   "execution_count": 268,
   "id": "9fbf5cc6-d336-4926-ba2b-f3e1e5af2ebd",
   "metadata": {},
   "outputs": [
    {
     "name": "stdin",
     "output_type": "stream",
     "text": [
      "Enter element to check in the set:  10\n"
     ]
    },
    {
     "name": "stdout",
     "output_type": "stream",
     "text": [
      "Element present in the set: True\n"
     ]
    }
   ],
   "source": [
    "element_to_check = int(input(\"Enter element to check in the set: \"))\n",
    "is_element_present = element_to_check in set_integers\n",
    "print(\"Element present in the set:\", is_element_present)"
   ]
  },
  {
   "cell_type": "markdown",
   "id": "b89a3ed9-bbfc-42ab-a846-f67eba307294",
   "metadata": {},
   "source": [
    "### 5. Find the length of a set without using the `len()` function."
   ]
  },
  {
   "cell_type": "code",
   "execution_count": 269,
   "id": "c76c1338-0b06-4b35-8728-da3391b7c7ba",
   "metadata": {},
   "outputs": [
    {
     "name": "stdout",
     "output_type": "stream",
     "text": [
      "Length of the set: 5\n"
     ]
    }
   ],
   "source": [
    "length_of_set = sum(1 for _ in set_integers)\n",
    "print(\"Length of the set:\", length_of_set)"
   ]
  },
  {
   "cell_type": "markdown",
   "id": "09b73f12-c25e-47d6-8f49-2ae2052f9ce9",
   "metadata": {},
   "source": [
    "### 6. Clear all elements from a set."
   ]
  },
  {
   "cell_type": "code",
   "execution_count": 270,
   "id": "379d0b4d-9171-4980-b65c-304ca7661f0b",
   "metadata": {},
   "outputs": [
    {
     "name": "stdout",
     "output_type": "stream",
     "text": [
      "Set after clearing all elements: set()\n"
     ]
    }
   ],
   "source": [
    "set_integers.clear()\n",
    "print(\"Set after clearing all elements:\", set_integers)"
   ]
  },
  {
   "cell_type": "markdown",
   "id": "f5a0306b-3efa-4837-9af8-d6961731c474",
   "metadata": {},
   "source": [
    "### 7. Create a set of even numbers from 1 to 10."
   ]
  },
  {
   "cell_type": "code",
   "execution_count": 271,
   "id": "ffa328e8-74a5-4e2a-8fc5-f46e62011e2f",
   "metadata": {},
   "outputs": [
    {
     "name": "stdout",
     "output_type": "stream",
     "text": [
      "Set of even numbers from 1 to 10: {2, 4, 6, 8, 10}\n"
     ]
    }
   ],
   "source": [
    "set_even_numbers = {num for num in range(1, 11) if num % 2 == 0}\n",
    "print(\"Set of even numbers from 1 to 10:\", set_even_numbers)"
   ]
  },
  {
   "cell_type": "markdown",
   "id": "1620222b-cac7-41aa-8edd-769d8a031648",
   "metadata": {},
   "source": [
    "### 8. Create a set of odd numbers from 1 to 10."
   ]
  },
  {
   "cell_type": "code",
   "execution_count": 272,
   "id": "7aab5143-af6e-4741-95f3-787a74ad0abd",
   "metadata": {},
   "outputs": [
    {
     "name": "stdout",
     "output_type": "stream",
     "text": [
      "Set of odd numbers from 1 to 10: {1, 3, 5, 7, 9}\n"
     ]
    }
   ],
   "source": [
    "set_odd_numbers = {num for num in range(1, 11) if num % 2 != 0}\n",
    "print(\"Set of odd numbers from 1 to 10:\", set_odd_numbers)"
   ]
  },
  {
   "cell_type": "markdown",
   "id": "466ddec0-44f6-42d4-bbb2-d0dbe260e1cf",
   "metadata": {},
   "source": [
    "### 9. Find the union of two sets."
   ]
  },
  {
   "cell_type": "code",
   "execution_count": 274,
   "id": "14181a04-f15b-4082-83e5-4a020d37234f",
   "metadata": {},
   "outputs": [
    {
     "name": "stdin",
     "output_type": "stream",
     "text": [
      "Enter second set (separated by space):  2 3 4 5 6 600\n"
     ]
    },
    {
     "name": "stdout",
     "output_type": "stream",
     "text": [
      "Union of two sets: {2, 3, 4, 5, 6, 8, 10, 600}\n"
     ]
    }
   ],
   "source": [
    "second_set = set(map(int, input(\"Enter second set (separated by space): \").split()))\n",
    "union_set = set_even_numbers.union(second_set)\n",
    "print(\"Union of two sets:\", union_set)"
   ]
  },
  {
   "cell_type": "markdown",
   "id": "1fccbb60-ea48-4b07-9bf3-c2e61cf6403b",
   "metadata": {},
   "source": [
    "### 10. Find the intersection of two sets."
   ]
  },
  {
   "cell_type": "code",
   "execution_count": 275,
   "id": "9bdb1fff-f0fa-4b4b-a9a9-4b99e33ff0ad",
   "metadata": {},
   "outputs": [
    {
     "name": "stdout",
     "output_type": "stream",
     "text": [
      "Intersection of two sets: {2, 3, 4, 5, 6, 600}\n"
     ]
    }
   ],
   "source": [
    "intersection_set = union_set.intersection(second_set)\n",
    "print(\"Intersection of two sets:\", intersection_set)"
   ]
  },
  {
   "cell_type": "markdown",
   "id": "fe0a4120-9b16-4e74-99a3-c0819f8bd0bc",
   "metadata": {},
   "source": [
    "### 11. Find the difference between two sets."
   ]
  },
  {
   "cell_type": "code",
   "execution_count": 276,
   "id": "f4be5d62-21f7-4c71-ab38-bd84ab0a3045",
   "metadata": {},
   "outputs": [
    {
     "name": "stdout",
     "output_type": "stream",
     "text": [
      "Difference between two sets: set()\n"
     ]
    }
   ],
   "source": [
    "difference_set = set_integers.difference(second_set)\n",
    "print(\"Difference between two sets:\", difference_set)"
   ]
  },
  {
   "cell_type": "markdown",
   "id": "a812cca4-5147-4543-8455-1fa454dddccd",
   "metadata": {},
   "source": [
    "### 12. Check if a set is a subset of another set."
   ]
  },
  {
   "cell_type": "code",
   "execution_count": 277,
   "id": "6b5163bb-48a5-48e5-ac53-f611522cd6ee",
   "metadata": {},
   "outputs": [
    {
     "name": "stdout",
     "output_type": "stream",
     "text": [
      "Set is a subset of another set: True\n"
     ]
    }
   ],
   "source": [
    "is_subset = set_integers.issubset(second_set)\n",
    "print(\"Set is a subset of another set:\", is_subset)"
   ]
  },
  {
   "cell_type": "markdown",
   "id": "35a516b5-2fe0-4d7e-8ef0-a20043433791",
   "metadata": {},
   "source": [
    "### 13. Check if a set is a superset of another set."
   ]
  },
  {
   "cell_type": "code",
   "execution_count": 278,
   "id": "29d24b9b-f785-498e-94ff-a93f4fd240d6",
   "metadata": {},
   "outputs": [
    {
     "name": "stdout",
     "output_type": "stream",
     "text": [
      "Set is a superset of another set: False\n"
     ]
    }
   ],
   "source": [
    "is_superset = set_integers.issuperset(second_set)\n",
    "print(\"Set is a superset of another set:\", is_superset)"
   ]
  },
  {
   "cell_type": "markdown",
   "id": "6ff589f3-373e-4c84-810d-8960bfd35bf4",
   "metadata": {},
   "source": [
    "### 14. Create a set from a list."
   ]
  },
  {
   "cell_type": "code",
   "execution_count": 279,
   "id": "c5f276bd-5371-4962-9d85-d0395c4ae877",
   "metadata": {},
   "outputs": [
    {
     "name": "stdin",
     "output_type": "stream",
     "text": [
      "Enter a list (separated by space):  2 3 4 5 6 7 8 2 3 4 5\n"
     ]
    },
    {
     "name": "stdout",
     "output_type": "stream",
     "text": [
      "Set from a list: {2, 3, 4, 5, 6, 7, 8}\n"
     ]
    }
   ],
   "source": [
    "list_to_set = set([int(item) for item in input(\"Enter a list (separated by space): \").split()])\n",
    "print(\"Set from a list:\", list_to_set)\n"
   ]
  },
  {
   "cell_type": "markdown",
   "id": "f93909d5-6c78-4c8e-b2f5-d197dcff3af4",
   "metadata": {},
   "source": [
    "### 15. Convert a set to a list."
   ]
  },
  {
   "cell_type": "code",
   "execution_count": 280,
   "id": "59bcdc60-b474-4c24-9dc9-7d27c943e0c9",
   "metadata": {},
   "outputs": [
    {
     "name": "stdout",
     "output_type": "stream",
     "text": [
      "List from a set: []\n"
     ]
    }
   ],
   "source": [
    "set_to_list = list(set_integers)\n",
    "print(\"List from a set:\", set_to_list)"
   ]
  },
  {
   "cell_type": "markdown",
   "id": "7921f498-8fca-40e4-8005-df38fea7a487",
   "metadata": {},
   "source": [
    "### 16. Remove a random element from a set."
   ]
  },
  {
   "cell_type": "code",
   "execution_count": 290,
   "id": "d3686c9f-8c98-4fdd-81d3-8d9535711367",
   "metadata": {},
   "outputs": [
    {
     "name": "stdout",
     "output_type": "stream",
     "text": [
      "Set after removing random element: {1, 2, 3, 4, 5, 6, 7, 9, 12, 23}\n"
     ]
    },
    {
     "name": "stderr",
     "output_type": "stream",
     "text": [
      "/tmp/ipykernel_84/200685215.py:3: DeprecationWarning: Sampling from a set deprecated\n",
      "since Python 3.9 and will be removed in a subsequent version.\n",
      "  random_element = random.sample(set_integers, 1)[0]\n"
     ]
    }
   ],
   "source": [
    "set_integers={1,2,3,4,5,6,7,8,9,12,3,5,23}\n",
    "if set_integers:\n",
    "    random_element = random.sample(set_integers, 1)[0]\n",
    "    set_integers.remove(random_element)\n",
    "    print(\"Set after removing random element:\", set_integers)\n",
    "else:\n",
    "    print(\"Set is empty. Cannot remove a random element.\")"
   ]
  },
  {
   "cell_type": "markdown",
   "id": "2bfb2b50-9f01-40ed-aaaa-79d419fd605a",
   "metadata": {},
   "source": [
    "### 17. Pop an element from a set."
   ]
  },
  {
   "cell_type": "code",
   "execution_count": 291,
   "id": "2b537d5d-a33e-44dc-a853-7166f29ec15d",
   "metadata": {},
   "outputs": [
    {
     "name": "stdout",
     "output_type": "stream",
     "text": [
      "Set after popping an element: {2, 3, 4, 5, 6, 7, 9, 12, 23} Popped element: 1\n"
     ]
    }
   ],
   "source": [
    "popped_element = set_integers.pop() if set_integers else None\n",
    "print(\"Set after popping an element:\", set_integers, \"Popped element:\", popped_element)"
   ]
  },
  {
   "cell_type": "markdown",
   "id": "43450ec7-9acb-46a7-861e-e6990fc71782",
   "metadata": {},
   "source": [
    "### 18. Check if two sets have no elements in common."
   ]
  },
  {
   "cell_type": "code",
   "execution_count": 292,
   "id": "7fe06748-14fd-4064-8514-1f4a5caae754",
   "metadata": {},
   "outputs": [
    {
     "name": "stdout",
     "output_type": "stream",
     "text": [
      "Sets have no elements in common: False\n"
     ]
    }
   ],
   "source": [
    "no_common_elements = set_integers.isdisjoint(second_set)\n",
    "print(\"Sets have no elements in common:\", no_common_elements)"
   ]
  },
  {
   "cell_type": "markdown",
   "id": "9c313bae-50d8-4043-9f05-fc774856d548",
   "metadata": {},
   "source": [
    "### 19. Find the symmetric difference between two sets."
   ]
  },
  {
   "cell_type": "code",
   "execution_count": 293,
   "id": "62fc142c-bc3d-4888-8b7c-9a79580aa207",
   "metadata": {},
   "outputs": [
    {
     "name": "stdout",
     "output_type": "stream",
     "text": [
      "Symmetric difference between two sets: {7, 9, 12, 23, 600}\n"
     ]
    }
   ],
   "source": [
    "symmetric_difference_set = set_integers.symmetric_difference(second_set)\n",
    "print(\"Symmetric difference between two sets:\", symmetric_difference_set)\n"
   ]
  },
  {
   "cell_type": "markdown",
   "id": "6ea4d819-bbfd-45e0-ada3-3c06af8d4645",
   "metadata": {},
   "source": [
    "### 20. Update a set with elements from another set."
   ]
  },
  {
   "cell_type": "code",
   "execution_count": 295,
   "id": "f6aff582-c06d-4ada-8ca6-d5c2cd74f756",
   "metadata": {},
   "outputs": [
    {
     "name": "stdout",
     "output_type": "stream",
     "text": [
      "Set after updating with elements from another set: {2, 3, 4, 5, 6, 7, 9, 12, 23, 600}\n"
     ]
    }
   ],
   "source": [
    "set_integers.update(second_set)\n",
    "print(\"Set after updating with elements from another set:\", set_integers)"
   ]
  },
  {
   "cell_type": "markdown",
   "id": "d16936f3-2971-484f-999b-f1e81df868cd",
   "metadata": {},
   "source": [
    "### 21. Create a set of the first 5 prime numbers."
   ]
  },
  {
   "cell_type": "code",
   "execution_count": 298,
   "id": "fc2ed5a7-aa8e-42c9-a765-263bbbb9633c",
   "metadata": {},
   "outputs": [
    {
     "name": "stdout",
     "output_type": "stream",
     "text": [
      "Tuple of the first 5 prime numbers: {2, 3, 5, 7, 11}\n"
     ]
    }
   ],
   "source": [
    "def is_prime(num):\n",
    "    if num < 2:\n",
    "        return False\n",
    "    for i in range(2, int(num**0.5) + 1):\n",
    "        if num % i == 0:\n",
    "            return False\n",
    "    return True\n",
    "n = 5\n",
    "prime_numbers_tuple = set([num for num in range(2, 100) if is_prime(num)][:5])\n",
    "\n",
    "print(f\"Tuple of the first {n} prime numbers:\", prime_numbers_tuple)\n"
   ]
  },
  {
   "cell_type": "markdown",
   "id": "f6921665-9912-4b73-8bf4-acb8b74a7aa0",
   "metadata": {},
   "source": [
    "### 22. Check if two sets are identical."
   ]
  },
  {
   "cell_type": "code",
   "execution_count": 300,
   "id": "76639dff-8f10-4a68-b7d5-716edb9e0fea",
   "metadata": {},
   "outputs": [
    {
     "name": "stdout",
     "output_type": "stream",
     "text": [
      "Sets are identical: False\n"
     ]
    }
   ],
   "source": [
    "are_sets_identical = set_integers == second_set\n",
    "print(\"Sets are identical:\", are_sets_identical)"
   ]
  },
  {
   "cell_type": "markdown",
   "id": "e6dfdd2f-a322-484a-b9e2-b1bae3beeb21",
   "metadata": {},
   "source": [
    "### 23. Create a frozen set."
   ]
  },
  {
   "cell_type": "code",
   "execution_count": 301,
   "id": "d99f7f4c-7a44-4e2c-bc75-2c23184c6bcb",
   "metadata": {},
   "outputs": [
    {
     "name": "stdout",
     "output_type": "stream",
     "text": [
      "Frozen set: frozenset({2, 3, 4, 5, 6, 7, 9, 12, 23, 600})\n"
     ]
    }
   ],
   "source": [
    "frozen_set = frozenset(set_integers)\n",
    "print(\"Frozen set:\", frozen_set)"
   ]
  },
  {
   "cell_type": "markdown",
   "id": "29bb5738-1592-4339-92aa-430ac4a672be",
   "metadata": {},
   "source": [
    "### 24. Check if a set is disjoint with another set."
   ]
  },
  {
   "cell_type": "code",
   "execution_count": 302,
   "id": "cb4777e7-e53e-4fa1-a239-ae61e493c053",
   "metadata": {},
   "outputs": [
    {
     "name": "stdout",
     "output_type": "stream",
     "text": [
      "Sets are disjoint: False\n"
     ]
    }
   ],
   "source": [
    "is_disjoint = set_integers.isdisjoint(set_odd_numbers)\n",
    "print(\"Sets are disjoint:\", is_disjoint)"
   ]
  },
  {
   "cell_type": "markdown",
   "id": "a9c212a7-72b2-45af-865c-22c24657cb5a",
   "metadata": {},
   "source": [
    "### 25. Create a set of squares of numbers from 1 to 5."
   ]
  },
  {
   "cell_type": "code",
   "execution_count": 305,
   "id": "67f53a1b-f236-4d6e-b0c3-ddc31ad630dd",
   "metadata": {},
   "outputs": [
    {
     "name": "stdout",
     "output_type": "stream",
     "text": [
      "Set of squares of numbers from 1 to 5: {1, 4, 9, 16, 25}\n"
     ]
    }
   ],
   "source": [
    "set_squares = {num**2 for num in range(1, 6)}\n",
    "print(\"Set of squares of numbers from 1 to 5:\", set_squares)"
   ]
  },
  {
   "cell_type": "markdown",
   "id": "bc00c6ec-738b-4db8-a36c-9854f6ab89df",
   "metadata": {},
   "source": [
    "### 26. Filter out all even numbers from a set."
   ]
  },
  {
   "cell_type": "code",
   "execution_count": 304,
   "id": "6ef61e9f-ab4a-4e5f-be6f-b0f8b7f77f8b",
   "metadata": {},
   "outputs": [
    {
     "name": "stdout",
     "output_type": "stream",
     "text": [
      "Set after filtering out even numbers: {3, 5, 7, 9, 23}\n"
     ]
    }
   ],
   "source": [
    "filtered_set = {num for num in set_integers if num % 2 != 0}\n",
    "print(\"Set after filtering out even numbers:\", filtered_set)"
   ]
  },
  {
   "cell_type": "markdown",
   "id": "56d57b50-78c6-42cb-b0ce-143d5fffbe15",
   "metadata": {},
   "source": [
    "### 27. Multiply all elements in a set by 2."
   ]
  },
  {
   "cell_type": "code",
   "execution_count": 306,
   "id": "876299a9-025b-4a22-932a-853ceab4bfb9",
   "metadata": {},
   "outputs": [
    {
     "name": "stdout",
     "output_type": "stream",
     "text": [
      "Set after multiplying all elements by 2: {4, 6, 8, 10, 12, 14, 46, 1200, 18, 24}\n"
     ]
    }
   ],
   "source": [
    "multiplied_set = {num * 2 for num in set_integers}\n",
    "print(\"Set after multiplying all elements by 2:\", multiplied_set)"
   ]
  },
  {
   "cell_type": "markdown",
   "id": "b5bf3b9b-7941-488a-bb12-1b65d94ecc8e",
   "metadata": {},
   "source": [
    "### 28. Create a set of random numbers."
   ]
  },
  {
   "cell_type": "code",
   "execution_count": 307,
   "id": "55d8555d-e33f-4c6a-827c-dd8ccd76af38",
   "metadata": {},
   "outputs": [
    {
     "name": "stdout",
     "output_type": "stream",
     "text": [
      "Set of random numbers: {73, 41, 14, 51, 25}\n"
     ]
    }
   ],
   "source": [
    "random_set = {random.randint(1, 100) for _ in range(5)}\n",
    "print(\"Set of random numbers:\", random_set)"
   ]
  },
  {
   "cell_type": "markdown",
   "id": "e24d8e8b-75ba-4013-bb2e-c1e0649081e0",
   "metadata": {},
   "source": [
    "### 29. Check if a set is empty."
   ]
  },
  {
   "cell_type": "code",
   "execution_count": 308,
   "id": "ffe26c7e-386f-4269-9f37-22e2297d3412",
   "metadata": {},
   "outputs": [
    {
     "name": "stdout",
     "output_type": "stream",
     "text": [
      "Set is empty: False\n"
     ]
    }
   ],
   "source": [
    "is_empty = not bool(set_integers)\n",
    "print(\"Set is empty:\", is_empty)"
   ]
  },
  {
   "cell_type": "markdown",
   "id": "8926d2c0-1b55-4f6d-8fe5-9bbcbc7bc081",
   "metadata": {},
   "source": [
    "### 30. Create a nested set (hint: use frozenset)."
   ]
  },
  {
   "cell_type": "code",
   "execution_count": 311,
   "id": "5ef62457-1415-41a1-b62d-72af032c94bc",
   "metadata": {},
   "outputs": [
    {
     "name": "stdout",
     "output_type": "stream",
     "text": [
      "Nested set: frozenset({1, frozenset({2, 3})})\n"
     ]
    }
   ],
   "source": [
    "nested_set = frozenset({1, frozenset({2, 3})})\n",
    "print(\"Nested set:\", nested_set)"
   ]
  },
  {
   "cell_type": "markdown",
   "id": "3fc10a69-f8ff-4eea-8207-4eb05c88ac1d",
   "metadata": {},
   "source": [
    "### 31. Remove an element from a set using the discard method."
   ]
  },
  {
   "cell_type": "code",
   "execution_count": 312,
   "id": "cafb9122-391a-499d-be8b-c976d5bdf63d",
   "metadata": {},
   "outputs": [
    {
     "name": "stdin",
     "output_type": "stream",
     "text": [
      "Enter element to discard from the set:  6\n"
     ]
    },
    {
     "name": "stdout",
     "output_type": "stream",
     "text": [
      "Set after discarding element: {2, 3, 4, 5, 7, 9, 12, 23, 600}\n"
     ]
    }
   ],
   "source": [
    "element_to_discard = int(input(\"Enter element to discard from the set: \"))\n",
    "set_integers.discard(element_to_discard)\n",
    "print(\"Set after discarding element:\", set_integers)"
   ]
  },
  {
   "cell_type": "markdown",
   "id": "d11f1417-3afd-4709-9b58-a04629b06539",
   "metadata": {},
   "source": [
    "### 32. Compare two sets."
   ]
  },
  {
   "cell_type": "code",
   "execution_count": 314,
   "id": "da144c81-19dd-43c5-a36d-8eb8f0a63701",
   "metadata": {},
   "outputs": [
    {
     "name": "stdout",
     "output_type": "stream",
     "text": [
      "Sets are equal: False\n",
      "Set is a subset of another set: False\n",
      "Set is a superset of another set: False\n"
     ]
    }
   ],
   "source": [
    "is_equal = set_integers == second_set\n",
    "is_subset = set_integers.issubset(second_set)\n",
    "is_superset = set_integers.issuperset(second_set)\n",
    "\n",
    "print(\"Sets are equal:\", is_equal)\n",
    "print(\"Set is a subset of another set:\", is_subset)\n",
    "print(\"Set is a superset of another set:\", is_superset)"
   ]
  },
  {
   "cell_type": "markdown",
   "id": "bc2c3aa5-9fec-4881-96c6-870f2b093275",
   "metadata": {},
   "source": [
    "### 33. Create a set from a string."
   ]
  },
  {
   "cell_type": "code",
   "execution_count": 315,
   "id": "1e8a35d4-f713-4832-9f7c-63efeede4c99",
   "metadata": {},
   "outputs": [
    {
     "name": "stdin",
     "output_type": "stream",
     "text": [
      "Enter a string:  AMANKUMAR\n"
     ]
    },
    {
     "name": "stdout",
     "output_type": "stream",
     "text": [
      "Set from a string: {'R', 'N', 'M', 'K', 'A', 'U'}\n"
     ]
    }
   ],
   "source": [
    "string_to_set = set(input(\"Enter a string: \"))\n",
    "print(\"Set from a string:\", string_to_set)"
   ]
  },
  {
   "cell_type": "markdown",
   "id": "64b63c9f-367c-4407-84c2-e21c9f051a94",
   "metadata": {},
   "source": [
    "### 34. Convert a set of strings to a set of integers."
   ]
  },
  {
   "cell_type": "code",
   "execution_count": 316,
   "id": "2a5ab64a-817e-44fb-ba76-5a046ac972f9",
   "metadata": {},
   "outputs": [
    {
     "name": "stdout",
     "output_type": "stream",
     "text": [
      "Set of integers from a set of strings: {1, 2, 3}\n"
     ]
    }
   ],
   "source": [
    "set_of_strings = {'1', '2', '3'}\n",
    "set_of_integers = {int(item) for item in set_of_strings}\n",
    "print(\"Set of integers from a set of strings:\", set_of_integers)"
   ]
  },
  {
   "cell_type": "markdown",
   "id": "67f2450f-3bc1-4ee8-b1f0-0c6665dbf2fd",
   "metadata": {},
   "source": [
    "### 35. Convert a set of integers to a set of strings."
   ]
  },
  {
   "cell_type": "code",
   "execution_count": 317,
   "id": "2533cfc3-b712-40fb-815b-08b7bcc46718",
   "metadata": {},
   "outputs": [
    {
     "name": "stdout",
     "output_type": "stream",
     "text": [
      "Set of strings from a set of integers: {'7', '3', '9', '2', '4', '600', '23', '5', '12'}\n"
     ]
    }
   ],
   "source": [
    "set_of_strings = {str(num) for num in set_integers}\n",
    "print(\"Set of strings from a set of integers:\", set_of_strings)"
   ]
  },
  {
   "cell_type": "markdown",
   "id": "55fa049e-f2a0-4b94-a5bc-2f9fa60372be",
   "metadata": {},
   "source": [
    "### 36. Create a set from a tuple."
   ]
  },
  {
   "cell_type": "code",
   "execution_count": 318,
   "id": "e4388dc1-50bd-46dc-a725-b2eed0b78ef9",
   "metadata": {},
   "outputs": [
    {
     "name": "stdout",
     "output_type": "stream",
     "text": [
      "Set from a tuple: {1, 2, 3}\n"
     ]
    }
   ],
   "source": [
    "tuple_to_set = set((1, 2, 3))\n",
    "print(\"Set from a tuple:\", tuple_to_set)"
   ]
  },
  {
   "cell_type": "markdown",
   "id": "985c1610-f296-48b9-b190-81e85cbd562b",
   "metadata": {},
   "source": [
    "### 37. Convert a set to a tuple."
   ]
  },
  {
   "cell_type": "code",
   "execution_count": 319,
   "id": "285fdf21-7815-4773-a14a-531862a537e2",
   "metadata": {},
   "outputs": [
    {
     "name": "stdout",
     "output_type": "stream",
     "text": [
      "Tuple from a set: (2, 3, 4, 5, 7, 9, 12, 23, 600)\n"
     ]
    }
   ],
   "source": [
    "set_to_tuple = tuple(set_integers)\n",
    "print(\"Tuple from a set:\", set_to_tuple)"
   ]
  },
  {
   "cell_type": "markdown",
   "id": "606eaa3a-62eb-481f-8b01-8d240cb4bb26",
   "metadata": {},
   "source": [
    "### 38. Find the maximum value in a set."
   ]
  },
  {
   "cell_type": "code",
   "execution_count": 320,
   "id": "ca3357b0-1b52-41e2-a69e-6f5f8da69dcf",
   "metadata": {},
   "outputs": [
    {
     "name": "stdout",
     "output_type": "stream",
     "text": [
      "Maximum value in the set: 600\n"
     ]
    }
   ],
   "source": [
    "max_value_set = max(set_integers, default=None)\n",
    "print(\"Maximum value in the set:\", max_value_set)"
   ]
  },
  {
   "cell_type": "markdown",
   "id": "aeb75ccf-f966-43d2-af16-d3c49f5bb619",
   "metadata": {},
   "source": [
    "### 39. Find the minimum value in a set."
   ]
  },
  {
   "cell_type": "code",
   "execution_count": 321,
   "id": "124b8fbb-c82d-4576-90d7-77459708728c",
   "metadata": {},
   "outputs": [
    {
     "name": "stdout",
     "output_type": "stream",
     "text": [
      "Minimum value in the set: 2\n"
     ]
    }
   ],
   "source": [
    "min_value_set = min(set_integers, default=None)\n",
    "print(\"Minimum value in the set:\", min_value_set)"
   ]
  },
  {
   "cell_type": "markdown",
   "id": "a5a2a8bd-1de4-45b3-bf02-89e2933a3ab2",
   "metadata": {},
   "source": [
    "### 40. Create a set from user input."
   ]
  },
  {
   "cell_type": "code",
   "execution_count": 322,
   "id": "33727110-12b1-4f83-ad49-6f6a909c84a2",
   "metadata": {},
   "outputs": [
    {
     "name": "stdin",
     "output_type": "stream",
     "text": [
      "Enter elements for a set (separated by space):  2 3 4 67 88 990 2 3\n"
     ]
    },
    {
     "name": "stdout",
     "output_type": "stream",
     "text": [
      "Set from user input: {2, 67, 3, 4, 88, 990}\n"
     ]
    }
   ],
   "source": [
    "user_input_set = set(map(int, input(\"Enter elements for a set (separated by space): \").split()))\n",
    "print(\"Set from user input:\", user_input_set)\n"
   ]
  },
  {
   "cell_type": "markdown",
   "id": "6db1a705-2fd3-4571-9fac-6fab72ed3665",
   "metadata": {},
   "source": [
    "### 41. Check if the intersection of two sets is empty."
   ]
  },
  {
   "cell_type": "code",
   "execution_count": 323,
   "id": "08f9fc4e-8181-4540-a80f-fbf6bdc18b89",
   "metadata": {},
   "outputs": [
    {
     "name": "stdout",
     "output_type": "stream",
     "text": [
      "Intersection of two sets is empty: False\n"
     ]
    }
   ],
   "source": [
    "is_intersection_empty = set_integers.isdisjoint(second_set)\n",
    "print(\"Intersection of two sets is empty:\", is_intersection_empty)\n"
   ]
  },
  {
   "cell_type": "markdown",
   "id": "d54e3128-2c3a-43a0-8682-740e83c5a21d",
   "metadata": {},
   "source": [
    "### 42. Create a set of the first 5 Fibonacci numbers."
   ]
  },
  {
   "cell_type": "code",
   "execution_count": 327,
   "id": "59091eae-4812-4ef7-9b92-62837f5d387d",
   "metadata": {},
   "outputs": [
    {
     "name": "stdout",
     "output_type": "stream",
     "text": [
      "Set of the first 5 Fibonacci numbers: {0, 1, 2, 3}\n"
     ]
    }
   ],
   "source": [
    "def generate_fibonacci(n):\n",
    "    fibonacci_set = set()\n",
    "    a, b = 0, 1\n",
    "    for _ in range(n):\n",
    "        fibonacci_set.add(a)\n",
    "        a, b = b, a + b\n",
    "    return fibonacci_set\n",
    "n =5\n",
    "fibonacci_numbers_set = generate_fibonacci(n)\n",
    "\n",
    "print(f\"Set of the first {n} Fibonacci numbers:\", fibonacci_numbers_set)\n"
   ]
  },
  {
   "cell_type": "markdown",
   "id": "d6d6cb84-f41f-4eba-992d-92cfafd58ab8",
   "metadata": {},
   "source": [
    "### 43. Remove duplicates from a list using sets."
   ]
  },
  {
   "cell_type": "code",
   "execution_count": 328,
   "id": "ebf930e7-03d5-424b-9a63-1986587c7c5a",
   "metadata": {},
   "outputs": [
    {
     "name": "stdout",
     "output_type": "stream",
     "text": [
      "List without duplicates: [1, 2, 3, 4, 5, 6]\n"
     ]
    }
   ],
   "source": [
    "list_with_duplicates = [1, 2, 2, 3, 4, 4, 5, 6, 6]\n",
    "unique_set = set(list_with_duplicates)\n",
    "list_without_duplicates = list(unique_set)\n",
    "print(\"List without duplicates:\", list_without_duplicates)"
   ]
  },
  {
   "cell_type": "markdown",
   "id": "0866cd17-c98f-4b51-af9f-120e8504fb37",
   "metadata": {},
   "source": [
    "### 44. Check if two sets have the same elements, regardless of their count."
   ]
  },
  {
   "cell_type": "code",
   "execution_count": 329,
   "id": "cdffcb5e-2ecb-4c7d-b943-092a7c21c9ae",
   "metadata": {},
   "outputs": [
    {
     "name": "stdout",
     "output_type": "stream",
     "text": [
      "Sets have the same elements: True\n"
     ]
    }
   ],
   "source": [
    "set1 = {1, 2, 3, 4, 5}\n",
    "set2 = {5, 4, 3, 2, 1, 1, 2, 3, 4}\n",
    "are_sets_equal = set1 == set2\n",
    "print(\"Sets have the same elements:\", are_sets_equal)"
   ]
  },
  {
   "cell_type": "markdown",
   "id": "358daacf-d59d-4488-a7e0-f0ce64c64c62",
   "metadata": {},
   "source": [
    "### 45. Create a set of the first `n` powers of 2."
   ]
  },
  {
   "cell_type": "code",
   "execution_count": 330,
   "id": "d5b46b8b-1027-417b-925f-dce790f21acf",
   "metadata": {},
   "outputs": [
    {
     "name": "stdin",
     "output_type": "stream",
     "text": [
      "Enter value of n for powers of 2:  10\n"
     ]
    },
    {
     "name": "stdout",
     "output_type": "stream",
     "text": [
      "Set of the first 10 powers of 2: {32, 1, 2, 64, 4, 128, 256, 512, 8, 16}\n"
     ]
    }
   ],
   "source": [
    "n_powers_of_2_set = {2**i for i in range(int(input(\"Enter value of n for powers of 2: \")))}\n",
    "print(f\"Set of the first {len(n_powers_of_2_set)} powers of 2:\", n_powers_of_2_set)"
   ]
  },
  {
   "cell_type": "markdown",
   "id": "33b8804b-8718-437f-ab95-41f618068f3c",
   "metadata": {},
   "source": [
    "### 46. Find the common elements between a set and a list."
   ]
  },
  {
   "cell_type": "code",
   "execution_count": 331,
   "id": "12a2a254-c7d4-4f58-812a-7e1237686672",
   "metadata": {},
   "outputs": [
    {
     "name": "stdout",
     "output_type": "stream",
     "text": [
      "Common elements between set and list: {3, 4, 5}\n"
     ]
    }
   ],
   "source": [
    "set_for_common_elements = {1, 2, 3, 4, 5}\n",
    "list_for_common_elements = [3, 4, 5, 6, 7]\n",
    "common_elements = set_for_common_elements.intersection(list_for_common_elements)\n",
    "print(\"Common elements between set and list:\", common_elements)"
   ]
  },
  {
   "cell_type": "markdown",
   "id": "6e8531ec-a03c-479f-b4b9-07d6a33b77b4",
   "metadata": {},
   "source": [
    "### 47. Create a set of the first `n` triangular numbers."
   ]
  },
  {
   "cell_type": "code",
   "execution_count": 332,
   "id": "4261ce82-6a53-47fa-98a3-467f2d5a9687",
   "metadata": {},
   "outputs": [
    {
     "name": "stdin",
     "output_type": "stream",
     "text": [
      "Enter value of n for triangular numbers:  10\n"
     ]
    },
    {
     "name": "stdout",
     "output_type": "stream",
     "text": [
      "Set of the first 10 triangular numbers: {0, 1, 3, 36, 6, 10, 45, 15, 21, 28}\n"
     ]
    }
   ],
   "source": [
    "n_triangular_numbers_set = {i * (i + 1) // 2 for i in range(int(input(\"Enter value of n for triangular numbers: \")))}\n",
    "print(f\"Set of the first {len(n_triangular_numbers_set)} triangular numbers:\", n_triangular_numbers_set)"
   ]
  },
  {
   "cell_type": "markdown",
   "id": "e20c9424-335e-4758-a823-c65e28af50f8",
   "metadata": {},
   "source": [
    "### 48. Check if a set contains another set as a subset."
   ]
  },
  {
   "cell_type": "code",
   "execution_count": 333,
   "id": "2fd2fe5a-6e56-49a0-9a60-3df85c63fc88",
   "metadata": {},
   "outputs": [
    {
     "name": "stdout",
     "output_type": "stream",
     "text": [
      "Set is a subset: True\n"
     ]
    }
   ],
   "source": [
    "set_to_check = {1, 2, 3}\n",
    "larger_set = {1, 2, 3, 4, 5, 6}\n",
    "is_subset = set_to_check.issubset(larger_set)\n",
    "print(\"Set is a subset:\", is_subset)"
   ]
  },
  {
   "cell_type": "markdown",
   "id": "3334d795-e33d-447b-bdd9-77e7bb91edbb",
   "metadata": {},
   "source": [
    "### 49. Create a set of alternating 1s and 0s of length `n`."
   ]
  },
  {
   "cell_type": "code",
   "execution_count": 334,
   "id": "d608edb6-0dc8-4b9a-b4f5-5680d8004e44",
   "metadata": {},
   "outputs": [
    {
     "name": "stdin",
     "output_type": "stream",
     "text": [
      "Enter length of alternating 1s and 0s set:  19\n"
     ]
    },
    {
     "name": "stdout",
     "output_type": "stream",
     "text": [
      "Set of alternating 1s and 0s of length 19: {0, 1}\n"
     ]
    }
   ],
   "source": [
    "n_alternating_set = int(input(\"Enter length of alternating 1s and 0s set: \"))\n",
    "alternating_set = {1 if i % 2 == 0 else 0 for i in range(n_alternating_set)}\n",
    "print(f\"Set of alternating 1s and 0s of length {n_alternating_set}:\", alternating_set)"
   ]
  },
  {
   "cell_type": "markdown",
   "id": "046eadde-ce70-460a-9188-a982a34f7468",
   "metadata": {},
   "source": [
    "### 50. Merge multiple sets into one."
   ]
  },
  {
   "cell_type": "code",
   "execution_count": 335,
   "id": "84d7de74-09ed-434e-999c-d8cacf1e4642",
   "metadata": {},
   "outputs": [
    {
     "name": "stdout",
     "output_type": "stream",
     "text": [
      "Merged set: {1, 2, 3, 4, 5, 6, 7}\n"
     ]
    }
   ],
   "source": [
    "set1 = {1, 2, 3}\n",
    "set2 = {3, 4, 5}\n",
    "set3 = {5, 6, 7}\n",
    "merged_set = set1.union(set2, set3)\n",
    "print(\"Merged set:\", merged_set)"
   ]
  },
  {
   "cell_type": "code",
   "execution_count": null,
   "id": "9dab7cc3-3f0e-43fd-aea0-73550f9ab9e4",
   "metadata": {},
   "outputs": [],
   "source": []
  }
 ],
 "metadata": {
  "kernelspec": {
   "display_name": "Python 3 (ipykernel)",
   "language": "python",
   "name": "python3"
  },
  "language_info": {
   "codemirror_mode": {
    "name": "ipython",
    "version": 3
   },
   "file_extension": ".py",
   "mimetype": "text/x-python",
   "name": "python",
   "nbconvert_exporter": "python",
   "pygments_lexer": "ipython3",
   "version": "3.10.8"
  }
 },
 "nbformat": 4,
 "nbformat_minor": 5
}
